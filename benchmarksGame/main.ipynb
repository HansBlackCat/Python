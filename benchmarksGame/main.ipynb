{
 "cells": [
  {
   "cell_type": "code",
   "execution_count": 14,
   "metadata": {
    "collapsed": true,
    "pycharm": {
     "is_executing": false
    }
   },
   "outputs": [],
   "source": [
    "import numpy as np\n",
    "import pandas as pd\n",
    "import matplotlib.pyplot as plt\n",
    "import csv\n",
    "import re"
   ]
  },
  {
   "cell_type": "code",
   "execution_count": 15,
   "outputs": [
    {
     "name": "stdout",
     "text": [
      "node\nswift\nmri\njruby\nmri\ndartexe\ntypescript\nyarv\nphp\nsbcl\nnode\nhipe\nracketcs\nmri\ngpp\nclangpp\ngo\npython3\nrust\nvw\nyarv\nopenj9\npython3\ngnat\ndartsnapshot\ntypescript\nopenj9\ndartsnapshot\njruby\ndartaot\nfsharpcore\nfpascal\ncsharpcore\nfsharpcore\nghc\ncsharpaot\ndartsnapshot\nclangpp\ncsharpcore\ncsharpaot\nnode\nclangpp\ngo\nmri\nfpascal\nrust\ngo\nhipe\nphp\ndart\nopenj9\njulia\nyarv\nracketcs\ncsharpaot\nlua\npharo\ndart\ngpp\nfsharpcore\nsbcl\nchapel\nperl\ndartaot\ncsharpaot\nifc\nghc\ncsharpcore\ngcc\ndart\nfsharpcore\njulia\nfsharpcore\njava\nclangpp\nfsharpcore\nracket\nclangpp\nnode\nrust\nyarv\ngpp\nopenj9\njruby\ngcc\nracketcs\npython3\ncsharpcore\nphp\nswift\ngo\nyarv\nrust\nfsharpcore\njava\ngo\nphp\ngo\njulia\nsbcl\ngcc\ngpp\ngnat\njava\nfsharpcore\nperl\nracket\njava\nghc\ngnat\ndartexe\ntypescript\ndartaot\nocaml\nocaml\nifc\nphp\njava\nfsharpcore\ngo\nfpascal\nmri\ngpp\njruby\ndartexe\nracketcs\nghc\njruby\nclangpp\nracket\ncsharpcore\nvw\nracket\nphp\njulia\ngo\nghc\ngpp\ngcc\nopenj9\ngo\nphp\ncsharpaot\nghc\nnode\ncsharpcore\njulia\ngo\nnode\ngcc\nfsharpcore\nclangpp\nnode\nfsharpcore\ncsharpaot\ntypescript\nifc\nracket\ndartsnapshot\njava\ncsharpaot\njruby\nclangpp\ncsharpcore\npython3\ncsharpcore\ndartaot\ngnat\nracketcs\nnode\ncsharpaot\nrust\nopenj9\nracketcs\ngcc\nfsharpcore\nmri\nmri\ncsharpcore\nghc\nsbcl\ngpp\nsbcl\ngpp\ngpp\njava\nphp\ntypescript\ncsharpcore\nphp\njava\nperl\nracket\nocaml\ncsharpaot\ncsharpcore\ndartexe\nfpascal\ncsharpaot\nchapel\ngpp\nsbcl\nclangpp\ngo\nopenj9\nphp\ngcc\ncsharpaot\ngpp\ncsharpaot\npython3\nocaml\nhipe\nclangpp\nopenj9\nfsharpcore\nghc\ngcc\nghc\nswift\ncsharpcore\nvw\nclangpp\nfsharpcore\njulia\nrust\ndart\njruby\ncsharpaot\nsbcl\ncsharpcore\nyarv\nghc\ncsharpcore\ngpp\nclangpp\nfsharpcore\nfsharpcore\nghc\nocaml\nghc\nrust\nracket\nocaml\nracketcs\ngcc\nyarv\nrust\nfsharpcore\nfsharpcore\npharo\ncsharpaot\nswift\nifc\nperl\nperl\nlua\ntypescript\nswift\nphp\nclangpp\njava\nghc\nrust\nnode\nphp\nfsharpcore\nfsharpcore\nnode\nfsharpcore\nsbcl\nnode\nnode\ngcc\nclangpp\njruby\nhipe\nfpascal\nperl\nmri\nopenj9\npython3\nfpascal\npharo\nyarv\ngpp\ncsharpcore\nrust\nmri\nperl\ndartsnapshot\nyarv\ndartaot\ngnat\ngcc\nopenj9\nghc\ngnat\ndart\nclangpp\nracketcs\nghc\ngpp\ngcc\ncsharpaot\nmri\nsbcl\ncsharpcore\nnode\nghc\njulia\ngpp\nclangpp\ncsharpaot\ncsharpcore\nsbcl\ncsharpaot\nsbcl\nrust\ngpp\njulia\nghc\ngpp\njruby\nifc\nopenj9\njava\ngcc\ngpp\npharo\njulia\nfsharpcore\nyarv\nocaml\ngcc\nrust\nswift\nlua\nocaml\ngo\ntypescript\nclangpp\ngo\nracketcs\ngo\npython3\nifc\nyarv\ngnat\ngpp\nvw\nracket\njulia\nracket\ncsharpcore\njulia\ndartexe\nswift\nmri\nchapel\npython3\ncsharpaot\nrust\ngcc\nghc\nclangpp\ncsharpaot\nyarv\nmri\nclangpp\nlua\njava\nchapel\nifc\nhipe\ncsharpcore\nrust\nperl\npython3\nvw\njulia\ncsharpcore\npharo\nvw\nsbcl\ncsharpcore\nmri\nperl\nswift\nyarv\ngpp\ntypescript\ndart\nracketcs\nrust\ncsharpaot\nopenj9\ngo\ncsharpcore\nocaml\njruby\ndartsnapshot\nracketcs\nhipe\njulia\ncsharpaot\npython3\nclangpp\nopenj9\ndartsnapshot\njava\njulia\ndart\ngpp\nperl\ncsharpaot\npython3\njava\nswift\ncsharpcore\nperl\njava\nrust\nhipe\njulia\nlua\nclangpp\njulia\ngnat\npharo\nrust\nrust\nyarv\ndartaot\nsbcl\nopenj9\nocaml\nfsharpcore\nrust\ncsharpcore\ncsharpaot\njulia\nrust\nnode\nnode\ncsharpaot\ncsharpcore\nghc\nrust\ndartaot\ndartsnapshot\nnode\ncsharpcore\ndart\nfsharpcore\nopenj9\nracket\nfsharpcore\nsbcl\ncsharpaot\nclangpp\njruby\ncsharpcore\nphp\nrust\ncsharpcore\ngo\npharo\nopenj9\ncsharpaot\ndartexe\ngo\nperl\ngo\nyarv\nsbcl\ngcc\nfsharpcore\ncsharpaot\nmri\nocaml\nsbcl\nfsharpcore\ndartaot\ncsharpaot\nmri\nracket\njava\nifc\npython3\njulia\nghc\ngpp\nsbcl\nchapel\ndartexe\ndartexe\nrust\nfsharpcore\njava\nmri\nyarv\nyarv\nopenj9\ncsharpaot\ngcc\npython3\nopenj9\nmri\nracket\ncsharpaot\nracketcs\npharo\ngpp\nfpascal\nrust\npython3\nhipe\ncsharpaot\ngcc\nfsharpcore\ngnat\nhipe\nracketcs\nyarv\nfsharpcore\nghc\nrust\nswift\ncsharpaot\nhipe\nfpascal\nyarv\ngo\ncsharpcore\ngpp\nfpascal\nnode\nyarv\nmri\nrust\nclangpp\nfsharpcore\nsbcl\nifc\nclangpp\ncsharpcore\ngpp\nfpascal\ngpp\nopenj9\ngo\ncsharpaot\ngcc\njruby\nfsharpcore\ncsharpcore\ngo\nrust\njulia\ncsharpaot\nlua\ngpp\ndartaot\nlua\ncsharpaot\nclangpp\nifc\njruby\nifc\nifc\ntypescript\nclangpp\nnode\ncsharpcore\ngcc\nfpascal\nperl\nmri\nmri\nmri\njava\nracket\nlua\ntypescript\ngcc\ncsharpaot\nracket\ngcc\ngo\njava\ncsharpcore\ndartsnapshot\nracketcs\nphp\nifc\nclangpp\ngnat\nghc\ngpp\nchapel\nphp\nocaml\nmri\nchapel\ncsharpaot\nfsharpcore\ndartexe\nvw\npharo\njava\nopenj9\nrust\ngcc\nocaml\nyarv\nclangpp\nifc\njava\nclangpp\nvw\npython3\nifc\ngpp\ndart\ngpp\ngo\nswift\nlua\nfpascal\nopenj9\ncsharpcore\nracketcs\njava\ncsharpcore\nclangpp\nclangpp\nracket\njulia\nyarv\njruby\njruby\ncsharpcore\ncsharpcore\ngcc\nsbcl\nhipe\ngpp\ngcc\njava\nracket\nswift\ndartsnapshot\ngpp\npython3\ngcc\nfpascal\ngpp\nlua\ncsharpaot\nvw\nhipe\nopenj9\ngo\nrust\ngpp\ngpp\nrust\nfsharpcore\njava\nswift\nopenj9\ncsharpcore\nyarv\nopenj9\ncsharpaot\ntypescript\nrust\ndartsnapshot\ndart\nclangpp\ngnat\nclangpp\ngcc\npharo\nrust\ncsharpcore\nracketcs\nswift\njruby\njulia\ncsharpaot\ndartaot\ngpp\nswift\nclangpp\nfpascal\nclangpp\ngpp\ncsharpaot\nclangpp\nsbcl\nghc\ncsharpaot\nrust\ngnat\ncsharpaot\nmri\ngpp\nswift\nifc\ncsharpaot\nfpascal\nperl\nclang\nclangpp\nocaml\njava\nifc\ncsharpaot\njava\ntypescript\nfsharpcore\nswift\npython3\nfsharpcore\nclangpp\ncsharpcore\ntypescript\nclangpp\nnode\nnode\ngnat\ncsharpcore\ngcc\ncsharpcore\nswift\nracket\ngpp\ndartexe\ngo\nifc\nifc\nracketcs\nfsharpcore\njulia\nifc\ngcc\nclang\ngcc\nrust\ndartaot\njulia\ngcc\nclang\nchapel\nclangpp\njulia\nphp\nnode\ngcc\ngo\nrust\nnode\nopenj9\ndartexe\ncsharpaot\nnode\ncsharpcore\nlua\nifc\nlua\ncsharpcore\ndart\ngnat\ncsharpcore\nsbcl\nghc\ngpp\ncsharpcore\nopenj9\njava\nswift\nchapel\nracketcs\ndart\nlua\nswift\nswift\nsbcl\nphp\nghc\nclangpp\nracket\nsbcl\nnode\nsbcl\nclangpp\ncsharpcore\nperl\nghc\npharo\nghc\nhipe\ngnat\ngcc\ncsharpaot\nlua\ncsharpcore\ngpp\nfpascal\ngo\njruby\nphp\nifc\nhipe\npython3\ncsharpaot\ndartaot\nyarv\nnode\nphp\nfsharpcore\ncsharpaot\ndartexe\nsbcl\nphp\nmri\nfsharpcore\nopenj9\njulia\nfsharpcore\ndartsnapshot\njulia\nmri\nrust\nopenj9\ngnat\nocaml\nracketcs\nifc\nfpascal\nmri\nrust\nfsharpcore\ncsharpcore\ngo\ngpp\njava\nracket\nlua\nvw\nfsharpcore\ngcc\nyarv\nyarv\nhipe\nghc\nfsharpcore\nfpascal\njruby\njava\nchapel\ngo\nifc\nrust\nperl\nperl\nphp\njruby\nghc\ncsharpcore\nghc\nfsharpcore\nracket\ngo\nifc\nclangpp\nclangpp\njava\nhipe\nghc\ngpp\nclangpp\nocaml\nnode\ncsharpcore\ncsharpaot\ncsharpaot\ncsharpcore\ncsharpaot\ndartsnapshot\nyarv\nyarv\nrust\ncsharpcore\nyarv\nphp\nclangpp\ncsharpcore\nnode\ndartaot\ncsharpcore\ngnat\njulia\njava\ndartsnapshot\ngo\ncsharpaot\nopenj9\ngpp\ncsharpcore\ngcc\nrust\nrust\nswift\ngpp\nclangpp\ngnat\ntypescript\ncsharpaot\njava\nrust\ntypescript\nfsharpcore\nfsharpcore\ngpp\nopenj9\nopenj9\nperl\nracketcs\nsbcl\nopenj9\ngcc\nmri\ncsharpcore\ncsharpaot\ndart\ntypescript\nfpascal\ngpp\ngo\nnode\nopenj9\nmri\nfsharpcore\nswift\njava\ndart\nracketcs\ngcc\nfsharpcore\ngpp\nrust\ncsharpaot\njulia\npython3\nracket\nyarv\nperl\ncsharpcore\njulia\nopenj9\nclangpp\nlua\npharo\ngcc\nfpascal\ncsharpaot\njava\nmri\nphp\nmri\nfsharpcore\nmri\ndartaot\nfsharpcore\ngo\nocaml\ndartexe\ndartexe\nrust\njava\nperl\nswift\nperl\nchapel\ncsharpaot\ngo\nyarv\ntypescript\ngcc\nclangpp\nghc\nocaml\ndartexe\nracket\nfsharpcore\nopenj9\ncsharpcore\nlua\nclangpp\ngo\ndartsnapshot\njulia\nopenj9\ngo\nhipe\nfpascal\nhipe\nnode\njulia\ngpp\npython3\nghc\nopenj9\njava\ngnat\ngo\nvw\njava\nyarv\nocaml\ngpp\nopenj9\nocaml\ndart\ncsharpaot\nchapel\njruby\njruby\nopenj9\nmri\ncsharpaot\nnode\nmri\nyarv\nmri\ntruffle\nfsharpcore\ncsharpaot\nifc\nlua\ncsharpcore\nocaml\nsbcl\nlua\ngo\ndartaot\nracketcs\nswift\ndart\nrust\ngpp\nopenj9\nmri\nperl\ncsharpcore\njava\nyarv\ngnat\ndartsnapshot\nracketcs\nphp\ngpp\nphp\njruby\ngo\npharo\nifc\ndartaot\njulia\nyarv\nracket\ncsharpcore\ngcc\ngcc\ndartsnapshot\ncsharpaot\nclangpp\ndart\nmri\njava\ncsharpcore\ngcc\nhipe\ndartexe\njulia\ngcc\ncsharpaot\nsbcl\nfsharpcore\nclangpp\ncsharpaot\ndartaot\njava\npython3\npython3\ndartexe\nnode\nfsharpcore\ngpp\njulia\nchapel\nfsharpcore\njava\ncsharpcore\npython3\nclangpp\nphp\nyarv\npharo\ngo\nnode\ngcc\ndartexe\ngpp\nhipe\ngcc\nghc\nphp\nphp\ntypescript\nhipe\ngnat\nvw\nrust\nlua\nnode\njava\ngpp\nracketcs\nphp\nfpascal\nyarv\nnode\ngpp\nracket\nfsharpcore\ndart\nrust\nifc\ntypescript\nfpascal\nclangpp\nchapel\nfsharpcore\nnode\npython3\nopenj9\njruby\nfpascal\nperl\nocaml\ndartsnapshot\ncsharpcore\njava\ncsharpaot\njulia\njruby\nsbcl\ngcc\ncsharpcore\npharo\ntruffle\ndartexe\nperl\ncsharpcore\ndartsnapshot\nsbcl\njulia\ndartaot\nracketcs\nvw\nyarv\nswift\npython3\ncsharpaot\nocaml\ndartaot\nperl\nsbcl\nyarv\nghc\nmri\ngpp\nfsharpcore\nmri\ngnat\nperl\nifc\nfsharpcore\ngcc\nsbcl\nsbcl\ncsharpaot\nracketcs\ngnat\nrust\nrust\nclangpp\nclangpp\ncsharpcore\nmri\ndart\ncsharpaot\nfsharpcore\nfsharpcore\nnode\nsbcl\nswift\nracket\npython3\nperl\nrust\nclangpp\nrust\ngo\nopenj9\ngo\ncsharpaot\ncsharpcore\nracket\njruby\n"
     ],
     "output_type": "stream"
    }
   ],
   "source": [
    "with open('main_data.csv') as f:\n",
    "    f_csv = csv.reader(f)\n",
    "    headers = next(f_csv)\n",
    "    for row in f_csv:\n",
    "        print(row[1])\n",
    "        "
   ],
   "metadata": {
    "collapsed": false,
    "pycharm": {
     "name": "#%%\n",
     "is_executing": false
    }
   }
  },
  {
   "cell_type": "code",
   "execution_count": 17,
   "outputs": [
    {
     "data": {
      "text/plain": "              name        lang  id     n  size(B)    cpu(s)  mem(KB)  status  \\\n0      binarytrees        node   4    21     1008    99.881   574408       0   \n1      binarytrees       swift   1    21      714   132.724   733728       0   \n2      binarytrees         mri   1    21      376  1834.155  1558448       0   \n3      binarytrees       jruby   4    21      364   121.553  1918704       0   \n4      binarytrees         mri   4    21      364  1728.771  1558556       0   \n...            ...         ...  ..   ...      ...       ...      ...     ...   \n1219  spectralnorm          go   2  5500      668    15.745     1992       0   \n1220  spectralnorm   csharpaot   5  5500      764     8.080    36480       0   \n1221  spectralnorm  csharpcore   2  5500      930    16.088    32484       0   \n1222  spectralnorm      racket   2  5500      532    37.885    36764       0   \n1223  spectralnorm       jruby   1  5500      292   464.679   752796       0   \n\n                 load  elapsed(s)   busy(s)  \n0     78% 80% 80% 83%      31.297   100.489  \n1     78% 70% 74% 75%      44.926   133.236  \n2       77% 1% 1% 24%    1836.229  1858.107  \n3     28% 33% 29% 39%      96.263   123.879  \n4       100% 0% 1% 0%    1730.741  1747.694  \n...               ...         ...       ...  \n1219  96% 96% 98% 96%       4.087    15.780  \n1220  94% 93% 93% 99%       2.142     8.134  \n1221  97% 97% 97% 98%       4.147    16.110  \n1222    18% 0% 0% 82%      37.885    38.287  \n1223  31% 15% 19% 38%     453.286   471.898  \n\n[1224 rows x 11 columns]",
      "text/html": "<div>\n<style scoped>\n    .dataframe tbody tr th:only-of-type {\n        vertical-align: middle;\n    }\n\n    .dataframe tbody tr th {\n        vertical-align: top;\n    }\n\n    .dataframe thead th {\n        text-align: right;\n    }\n</style>\n<table border=\"1\" class=\"dataframe\">\n  <thead>\n    <tr style=\"text-align: right;\">\n      <th></th>\n      <th>name</th>\n      <th>lang</th>\n      <th>id</th>\n      <th>n</th>\n      <th>size(B)</th>\n      <th>cpu(s)</th>\n      <th>mem(KB)</th>\n      <th>status</th>\n      <th>load</th>\n      <th>elapsed(s)</th>\n      <th>busy(s)</th>\n    </tr>\n  </thead>\n  <tbody>\n    <tr>\n      <td>0</td>\n      <td>binarytrees</td>\n      <td>node</td>\n      <td>4</td>\n      <td>21</td>\n      <td>1008</td>\n      <td>99.881</td>\n      <td>574408</td>\n      <td>0</td>\n      <td>78% 80% 80% 83%</td>\n      <td>31.297</td>\n      <td>100.489</td>\n    </tr>\n    <tr>\n      <td>1</td>\n      <td>binarytrees</td>\n      <td>swift</td>\n      <td>1</td>\n      <td>21</td>\n      <td>714</td>\n      <td>132.724</td>\n      <td>733728</td>\n      <td>0</td>\n      <td>78% 70% 74% 75%</td>\n      <td>44.926</td>\n      <td>133.236</td>\n    </tr>\n    <tr>\n      <td>2</td>\n      <td>binarytrees</td>\n      <td>mri</td>\n      <td>1</td>\n      <td>21</td>\n      <td>376</td>\n      <td>1834.155</td>\n      <td>1558448</td>\n      <td>0</td>\n      <td>77% 1% 1% 24%</td>\n      <td>1836.229</td>\n      <td>1858.107</td>\n    </tr>\n    <tr>\n      <td>3</td>\n      <td>binarytrees</td>\n      <td>jruby</td>\n      <td>4</td>\n      <td>21</td>\n      <td>364</td>\n      <td>121.553</td>\n      <td>1918704</td>\n      <td>0</td>\n      <td>28% 33% 29% 39%</td>\n      <td>96.263</td>\n      <td>123.879</td>\n    </tr>\n    <tr>\n      <td>4</td>\n      <td>binarytrees</td>\n      <td>mri</td>\n      <td>4</td>\n      <td>21</td>\n      <td>364</td>\n      <td>1728.771</td>\n      <td>1558556</td>\n      <td>0</td>\n      <td>100% 0% 1% 0%</td>\n      <td>1730.741</td>\n      <td>1747.694</td>\n    </tr>\n    <tr>\n      <td>...</td>\n      <td>...</td>\n      <td>...</td>\n      <td>...</td>\n      <td>...</td>\n      <td>...</td>\n      <td>...</td>\n      <td>...</td>\n      <td>...</td>\n      <td>...</td>\n      <td>...</td>\n      <td>...</td>\n    </tr>\n    <tr>\n      <td>1219</td>\n      <td>spectralnorm</td>\n      <td>go</td>\n      <td>2</td>\n      <td>5500</td>\n      <td>668</td>\n      <td>15.745</td>\n      <td>1992</td>\n      <td>0</td>\n      <td>96% 96% 98% 96%</td>\n      <td>4.087</td>\n      <td>15.780</td>\n    </tr>\n    <tr>\n      <td>1220</td>\n      <td>spectralnorm</td>\n      <td>csharpaot</td>\n      <td>5</td>\n      <td>5500</td>\n      <td>764</td>\n      <td>8.080</td>\n      <td>36480</td>\n      <td>0</td>\n      <td>94% 93% 93% 99%</td>\n      <td>2.142</td>\n      <td>8.134</td>\n    </tr>\n    <tr>\n      <td>1221</td>\n      <td>spectralnorm</td>\n      <td>csharpcore</td>\n      <td>2</td>\n      <td>5500</td>\n      <td>930</td>\n      <td>16.088</td>\n      <td>32484</td>\n      <td>0</td>\n      <td>97% 97% 97% 98%</td>\n      <td>4.147</td>\n      <td>16.110</td>\n    </tr>\n    <tr>\n      <td>1222</td>\n      <td>spectralnorm</td>\n      <td>racket</td>\n      <td>2</td>\n      <td>5500</td>\n      <td>532</td>\n      <td>37.885</td>\n      <td>36764</td>\n      <td>0</td>\n      <td>18% 0% 0% 82%</td>\n      <td>37.885</td>\n      <td>38.287</td>\n    </tr>\n    <tr>\n      <td>1223</td>\n      <td>spectralnorm</td>\n      <td>jruby</td>\n      <td>1</td>\n      <td>5500</td>\n      <td>292</td>\n      <td>464.679</td>\n      <td>752796</td>\n      <td>0</td>\n      <td>31% 15% 19% 38%</td>\n      <td>453.286</td>\n      <td>471.898</td>\n    </tr>\n  </tbody>\n</table>\n<p>1224 rows × 11 columns</p>\n</div>"
     },
     "metadata": {},
     "output_type": "execute_result",
     "execution_count": 17
    }
   ],
   "source": [
    "data = pd.read_csv('main_data.csv')\n",
    "data"
   ],
   "metadata": {
    "collapsed": false,
    "pycharm": {
     "name": "#%%\n",
     "is_executing": false
    }
   }
  }
 ],
 "metadata": {
  "kernelspec": {
   "display_name": "Python 3",
   "language": "python",
   "name": "python3"
  },
  "language_info": {
   "codemirror_mode": {
    "name": "ipython",
    "version": 2
   },
   "file_extension": ".py",
   "mimetype": "text/x-python",
   "name": "python",
   "nbconvert_exporter": "python",
   "pygments_lexer": "ipython2",
   "version": "2.7.6"
  },
  "pycharm": {
   "stem_cell": {
    "cell_type": "raw",
    "source": [],
    "metadata": {
     "collapsed": false
    }
   }
  }
 },
 "nbformat": 4,
 "nbformat_minor": 0
}