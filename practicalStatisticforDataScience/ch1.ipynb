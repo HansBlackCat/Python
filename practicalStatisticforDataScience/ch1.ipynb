{
 "cells": [
  {
   "cell_type": "code",
   "execution_count": 7,
   "metadata": {
    "collapsed": true,
    "pycharm": {
     "is_executing": false
    }
   },
   "outputs": [
    {
     "name": "stdout",
     "text": [
      "hello world\n"
     ],
     "output_type": "stream"
    }
   ],
   "source": [
    "# Exploratory Data Analysis\n",
    "print(\"hello world\")"
   ]
  },
  {
   "cell_type": "code",
   "execution_count": 8,
   "outputs": [],
   "source": [
    "import numpy as np\n",
    "import pandas as pd\n",
    "from scipy.stats import trim_mean\n",
    "import wquantiles as wq\n",
    "from statsmodels.robust.scale import mad"
   ],
   "metadata": {
    "collapsed": false,
    "pycharm": {
     "name": "#%%\n",
     "is_executing": false
    }
   }
  },
  {
   "cell_type": "code",
   "execution_count": 9,
   "outputs": [
    {
     "name": "stdout",
     "text": [
      "6162876.3\n",
      "4783697.125\n",
      "4436369.5\n",
      "4.445833981123393\n",
      "4.4\n"
     ],
     "output_type": "stream"
    }
   ],
   "source": [
    "state = pd.read_csv('./data/state.csv')\n",
    "#Mean\n",
    "print(state['Population'].mean()) #Mean\n",
    "#Trim-mean\n",
    "print(trim_mean(state['Population'], 0.1)) #Trim mean--trim 10%\n",
    "#Median\n",
    "print(state['Population'].median()) #Median\n",
    "#Weight-mean\n",
    "print(np.average(state['Murder.Rate'], weights = state['Population'])) #Weight_mean\n",
    "#Weight-median\n",
    "print(wq.median(state['Murder.Rate'], weights = state['Population'])) #Weight median\n"
   ],
   "metadata": {
    "collapsed": false,
    "pycharm": {
     "name": "#%%\n",
     "is_executing": false
    }
   }
  },
  {
   "cell_type": "code",
   "execution_count": 11,
   "outputs": [
    {
     "name": "stdout",
     "text": [
      "6848235.347401142\n",
      "6116686.25\n",
      "3849876.1459979336\n"
     ],
     "output_type": "stream"
    }
   ],
   "source": [
    "#SD\n",
    "print(state['Population'].std())\n",
    "#IQR\n",
    "print(state['Population'].quantile(0.75) - state['Population'].quantile(0))\n",
    "#MAD\n",
    "print(mad(state['Population']))"
   ],
   "metadata": {
    "collapsed": false,
    "pycharm": {
     "name": "#%%\n",
     "is_executing": false
    }
   }
  },
  {
   "cell_type": "code",
   "execution_count": 13,
   "outputs": [
    {
     "data": {
      "text/plain": "Text(0, 0.5, 'Population (millions)')"
     },
     "metadata": {},
     "output_type": "execute_result",
     "execution_count": 13
    },
    {
     "data": {
      "text/plain": "<Figure size 432x288 with 1 Axes>",
      "image/png": "[encoded data removed]"
     },
     "metadata": {
      "needs_background": "light"
     },
     "output_type": "display_data"
    }
   ],
   "source": [
    "#Quantile\n",
    "state['Murder.Rate'].quantile([0.05, 0.25, 0.5, 0.75, 0.95])\n",
    "ax = (state['Population']/1_000_000).plot.box()\n",
    "ax.set_ylabel('Population (millions)')\n"
   ],
   "metadata": {
    "collapsed": false,
    "pycharm": {
     "name": "#%%\n",
     "is_executing": false
    }
   }
  }
 ],
 "metadata": {
  "kernelspec": {
   "display_name": "Python 3",
   "language": "python",
   "name": "python3"
  },
  "language_info": {
   "codemirror_mode": {
    "name": "ipython",
    "version": 2
   },
   "file_extension": ".py",
   "mimetype": "text/x-python",
   "name": "python",
   "nbconvert_exporter": "python",
   "pygments_lexer": "ipython2",
   "version": "2.7.6"
  },
  "pycharm": {
   "stem_cell": {
    "cell_type": "raw",
    "source": [],
    "metadata": {
     "collapsed": false
    }
   }
  }
 },
 "nbformat": 4,
 "nbformat_minor": 0
}