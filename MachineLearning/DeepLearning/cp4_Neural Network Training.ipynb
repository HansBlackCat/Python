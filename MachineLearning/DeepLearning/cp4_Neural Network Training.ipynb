{
 "cells": [
  {
   "cell_type": "code",
   "execution_count": 8,
   "metadata": {},
   "outputs": [],
   "source": [
    "import numpy as np"
   ]
  },
  {
   "cell_type": "markdown",
   "metadata": {},
   "source": [
    "# NNT\n",
    "Data -> Humans' Effort(SIFT,HOG,..) -> **MachineTraining(SVM,KNN,..)** -> Output\\\n",
    "Data -> **Neural Network(Deep Learning)** -> Output\\\n",
    "\n",
    "Deep Learning need _training data_ , _test data_"
   ]
  },
  {
   "cell_type": "markdown",
   "metadata": {},
   "source": [
    "## Standard index\n",
    "### lose function(cost function)\n",
    "MSE (Mean Squared Error)\n",
    "\n",
    "$\n",
    "E = \\displaystyle\\frac{1}{2}\\sum_{k}(y_k-t_k)^2\n",
    "$\n",
    "\n",
    "$y_k$ Output of NN\\\n",
    "$t_k$ Answer label\\\n",
    "$k$ Dimension of Data"
   ]
  },
  {
   "cell_type": "code",
   "execution_count": 1,
   "metadata": {},
   "outputs": [],
   "source": [
    "def mean_squared_error(y, t):\n",
    "    return 0.5*np.sum((y-t)**2)"
   ]
  },
  {
   "cell_type": "code",
   "execution_count": 11,
   "metadata": {},
   "outputs": [
    {
     "name": "stdout",
     "output_type": "stream",
     "text": [
      "0.09250000000000003\n",
      "0.5925\n"
     ]
    }
   ],
   "source": [
    "# If num \n",
    "# t: answer is `2`\n",
    "t = [0,0,1,0,0,0,0,0]\n",
    "# y: estimate `2` is answer (0.6)\n",
    "y = [0.1,0.05,0.6,0.0,0.05,0.1,0.0,0.0]\n",
    "print(mean_squared_error(np.array(y),np.array(t)))\n",
    "\n",
    "# y: estimate `7` is answer (0.6)\n",
    "y = [0.1,0.05,0.1,0.0,0.05,0.6,0.0,0.0]\n",
    "print(mean_squared_error(np.array(y),np.array(t)))"
   ]
  },
  {
   "cell_type": "markdown",
   "metadata": {},
   "source": [
    "CEE (Cross Entropy Error)\n",
    "\n",
    "$\n",
    "E = -\\displaystyle\\sum_{k}t_k\\log{y_k}\n",
    "$\n",
    "\n",
    "$y_k$ Output of NN\\\n",
    "$t_k$ Answer label (One-hot encoding)\\\n",
    "$k$ Dimension of Data"
   ]
  },
  {
   "cell_type": "code",
   "execution_count": 14,
   "metadata": {},
   "outputs": [],
   "source": [
    "def cross_entropy_error(y,t):\n",
    "    delta = 1e-7\n",
    "    return -np.sum(t*np.log(y+delta))"
   ]
  },
  {
   "cell_type": "code",
   "execution_count": 18,
   "metadata": {},
   "outputs": [
    {
     "name": "stdout",
     "output_type": "stream",
     "text": [
      "0.510825457099338\n",
      "2.302584092994546\n"
     ]
    }
   ],
   "source": [
    "# t: answer is `2`\n",
    "t = [0,0,1,0,0,0,0,0]\n",
    "# y: estimate `2` is answer (0.6)\n",
    "y = [0.1,0.05,0.6,0.0,0.05,0.1,0.0,0.0]\n",
    "print(cross_entropy_error(np.array(y),np.array(t)))\n",
    "\n",
    "# y: estimate `7` is answer (0.6)\n",
    "y = [0.1,0.05,0.1,0.0,0.05,0.6,0.0,0.0]\n",
    "print(cross_entropy_error(np.array(y),np.array(t)))"
   ]
  },
  {
   "cell_type": "code",
   "execution_count": null,
   "metadata": {},
   "outputs": [],
   "source": []
  }
 ],
 "metadata": {
  "kernelspec": {
   "display_name": "Python 3",
   "language": "python",
   "name": "python3"
  },
  "language_info": {
   "codemirror_mode": {
    "name": "ipython",
    "version": 3
   },
   "file_extension": ".py",
   "mimetype": "text/x-python",
   "name": "python",
   "nbconvert_exporter": "python",
   "pygments_lexer": "ipython3",
   "version": "3.7.4"
  }
 },
 "nbformat": 4,
 "nbformat_minor": 2
}
