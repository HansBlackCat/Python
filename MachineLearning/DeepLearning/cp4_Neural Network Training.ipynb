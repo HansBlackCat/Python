{
 "cells": [
  {
   "cell_type": "code",
   "execution_count": 1,
   "metadata": {},
   "outputs": [],
   "source": [
    "import numpy as np\n",
    "import sys, os\n",
    "sys.path.append(os.pardir)\n",
    "from dataset.mnist import load_mnist\n",
    "import matplotlib.pylab as plt\n",
    "import matplotlib.cm as cm\n",
    "from mpl_toolkits.mplot3d import Axes3D\n",
    "# simpleNet\n",
    "from common.functions import *\n",
    "from common.gradient import numerical_gradient"
   ]
  },
  {
   "cell_type": "markdown",
   "metadata": {},
   "source": [
    "# NNT\n",
    "Data -> Humans' Effort(SIFT,HOG,..) -> **MachineTraining(SVM,KNN,..)** -> Output\\\n",
    "Data -> **Neural Network(Deep Learning)** -> Output\\\n",
    "\n",
    "Deep Learning need _training data_ , _test data_"
   ]
  },
  {
   "cell_type": "markdown",
   "metadata": {},
   "source": [
    "## Standard index\n",
    "### lose function(cost function)\n",
    "MSE (Mean Squared Error)\n",
    "\n",
    "$\n",
    "E = \\displaystyle\\frac{1}{2}\\sum_{k}(y_k-t_k)^2\n",
    "$\n",
    "\n",
    "$y_k$ Output of NN\\\n",
    "$t_k$ Answer label\\\n",
    "$k$ Dimension of Data"
   ]
  },
  {
   "cell_type": "code",
   "execution_count": 2,
   "metadata": {},
   "outputs": [],
   "source": [
    "def mean_squared_error(y, t):\n",
    "    return 0.5*np.sum((y-t)**2)"
   ]
  },
  {
   "cell_type": "code",
   "execution_count": 3,
   "metadata": {},
   "outputs": [
    {
     "name": "stdout",
     "output_type": "stream",
     "text": [
      "0.09250000000000003\n",
      "0.5925\n"
     ]
    }
   ],
   "source": [
    "# If num \n",
    "# t: answer is `2`\n",
    "t = [0,0,1,0,0,0,0,0]\n",
    "# y: estimate `2` is answer (0.6)\n",
    "y = [0.1,0.05,0.6,0.0,0.05,0.1,0.0,0.0]\n",
    "print(mean_squared_error(np.array(y),np.array(t)))\n",
    "\n",
    "# y: estimate `7` is answer (0.6)\n",
    "y = [0.1,0.05,0.1,0.0,0.05,0.6,0.0,0.0]\n",
    "print(mean_squared_error(np.array(y),np.array(t)))"
   ]
  },
  {
   "cell_type": "markdown",
   "metadata": {},
   "source": [
    "CEE (Cross Entropy Error)\n",
    "\n",
    "$\n",
    "E = -\\displaystyle\\sum_{k}t_k\\log{y_k}\n",
    "$\n",
    "\n",
    "$y_k$ Output of NN\\\n",
    "$t_k$ Answer label (One-hot encoding)\\\n",
    "$k$ Dimension of Data"
   ]
  },
  {
   "cell_type": "code",
   "execution_count": 4,
   "metadata": {},
   "outputs": [],
   "source": [
    "def cross_entropy_error(y,t):\n",
    "    # use delta cause log0 = -inf\n",
    "    delta = 1e-7\n",
    "    return -np.sum(t*np.log(y+delta))"
   ]
  },
  {
   "cell_type": "code",
   "execution_count": 5,
   "metadata": {},
   "outputs": [
    {
     "name": "stdout",
     "output_type": "stream",
     "text": [
      "0.510825457099338\n",
      "2.302584092994546\n"
     ]
    }
   ],
   "source": [
    "# t: answer is `2`\n",
    "t = [0,0,1,0,0,0,0,0]\n",
    "# y: estimate `2` is answer (0.6)\n",
    "y = [0.1,0.05,0.6,0.0,0.05,0.1,0.0,0.0]\n",
    "print(cross_entropy_error(np.array(y),np.array(t)))\n",
    "\n",
    "# y: estimate `7` is answer (0.6)\n",
    "y = [0.1,0.05,0.1,0.0,0.05,0.6,0.0,0.0]\n",
    "print(cross_entropy_error(np.array(y),np.array(t)))"
   ]
  },
  {
   "cell_type": "markdown",
   "metadata": {},
   "source": [
    "### Minibatch Learning\n",
    "\n",
    "Due to ineffciency in checking all lost functions, it's recommended to randomly choose some ipt data, and  calculate lose functions of them.\n",
    "\n",
    "$\n",
    "E = \\displaystyle-\\frac{1}{N}\\sum_{n}\\sum_{k}t_{nk}\\log{y_{nk}}\n",
    "$\n",
    "\n"
   ]
  },
  {
   "cell_type": "code",
   "execution_count": 6,
   "metadata": {},
   "outputs": [],
   "source": [
    "(x_train,t_train), (x_test,t_test) = load_mnist(normalize=True,one_hot_label=True)\n",
    "\n",
    "train_size = x_train.shape[0]\n",
    "batch_size = 10\n",
    "batch_mask = np.random.choice(train_size,batch_size) # 0<{NUM}<train_size, len({NUM})=batch_size\n",
    "x_batch = x_train[batch_mask]\n",
    "t_batch = t_train[batch_mask]"
   ]
  },
  {
   "cell_type": "code",
   "execution_count": 7,
   "metadata": {},
   "outputs": [],
   "source": [
    "# CEE (for batch)\n",
    "def cross_entropy_errorB(y,t):\n",
    "    # y: NN opt, t: one-hot-label\n",
    "    if y.ndim == 1:\n",
    "        t = t.reshape(1,t.size)\n",
    "        y = y.reshape(1,y.size)\n",
    "    batch_size = y.shape[0]\n",
    "    return -np.sum(t*np.log(y+1e-7))/batch_size"
   ]
  },
  {
   "cell_type": "code",
   "execution_count": 8,
   "metadata": {},
   "outputs": [],
   "source": [
    "# batch CEE when t isn't one-hot-encoded\n",
    "def cross_entropy_errorB_nonOneHot(y,t):\n",
    "    if y.ndim == 1:\n",
    "        t = t.reshape(1,t.size)\n",
    "        y = y.reshape(1,y.size)\n",
    "    batch_size = y.shape[0]\n",
    "    return -np.sum(np.log(y[np.arange(batch_size),t]+1e-7))/batch_size"
   ]
  },
  {
   "cell_type": "code",
   "execution_count": 9,
   "metadata": {},
   "outputs": [
    {
     "data": {
      "text/plain": [
       "2"
      ]
     },
     "execution_count": 9,
     "metadata": {},
     "output_type": "execute_result"
    }
   ],
   "source": [
    "testTemp = np.arange(0,20)\n",
    "# testTemp.ndim == 1\n",
    "testTemp = testTemp.reshape(2,10)\n",
    "testTemp.ndim"
   ]
  },
  {
   "cell_type": "markdown",
   "metadata": {},
   "source": [
    "### Calculus\n",
    "\n",
    "reason why we use lost functions is to fit error with calculus.\\\n",
    "when we use formal stair-shape function, slope will be either 0 or inf."
   ]
  },
  {
   "cell_type": "code",
   "execution_count": 10,
   "metadata": {},
   "outputs": [],
   "source": [
    "def numerical_diff(f,x):\n",
    "    h = 1e-4 # known to fit well\n",
    "    return (f(x+h)-f(x-h))/(2*h)"
   ]
  },
  {
   "cell_type": "code",
   "execution_count": 11,
   "metadata": {},
   "outputs": [
    {
     "data": {
      "image/png": "[encoded data removed]",
      "text/plain": [
       "<Figure size 432x288 with 1 Axes>"
      ]
     },
     "metadata": {
      "needs_background": "light"
     },
     "output_type": "display_data"
    }
   ],
   "source": [
    "def fn_1(x):\n",
    "    return 0.01*x**2 + 0.1*x\n",
    "\n",
    "x = np.arange(0.0,20.0,0.1)\n",
    "y = fn_1(x)\n",
    "\n",
    "plt.xlim(0,20)\n",
    "plt.xlabel(\"x\"); plt.ylabel(\"f(x)\")\n",
    "plt.plot(x,y)\n",
    "plt.plot(x,numerical_diff(fn_1,12)*(x-12)+fn_1(12)) \n",
    "plt.show()"
   ]
  },
  {
   "cell_type": "markdown",
   "metadata": {},
   "source": [
    "**Gradient**\n",
    "\n",
    "$\n",
    "\\displaystyle(\\frac{\\partial{f}}{x_0},\\frac{\\partial{f}}{x_1},\\dots)\n",
    "$"
   ]
  },
  {
   "cell_type": "code",
   "execution_count": 12,
   "metadata": {},
   "outputs": [],
   "source": [
    "def function_2(x):\n",
    "    if x.ndim == 1:\n",
    "        return np.sum(x**2)\n",
    "    else:\n",
    "        return np.sum(x**2, axis=1)"
   ]
  },
  {
   "cell_type": "code",
   "execution_count": 13,
   "metadata": {},
   "outputs": [
    {
     "data": {
      "text/plain": [
       "20"
      ]
     },
     "execution_count": 13,
     "metadata": {},
     "output_type": "execute_result"
    }
   ],
   "source": [
    "x = np.array([2,4])\n",
    "np.sum(x**2)"
   ]
  },
  {
   "cell_type": "code",
   "execution_count": 14,
   "metadata": {},
   "outputs": [],
   "source": [
    "def numerical_gradient_base(f,x):\n",
    "    h = 1e-4\n",
    "    grad = np.zeros_like(x) # has same shape as x\n",
    "    for idx in range(x.size):\n",
    "        tmp_val = x[idx]\n",
    "        x[idx] = tmp_val+h\n",
    "        fxh1 = f(x)\n",
    "        \n",
    "        x[idx] = tmp_val - h\n",
    "        fxh2 = f(x)\n",
    "        \n",
    "        grad[idx] = (fxh1-fxh2) / (2*h)\n",
    "        x[idx] = tmp_val # restore value\n",
    "    return grad\n",
    "\n",
    "def numerical_gradient(f,x):\n",
    "    if x.ndim == 1:\n",
    "        return numerical_gradient_base(f,x)\n",
    "    else:\n",
    "        grad = np.zeros_like(x)\n",
    "        \n",
    "        for idx, val in enumerate(x):\n",
    "            grad[idx] = numerical_gradient_base(f,val)\n",
    "        return grad   "
   ]
  },
  {
   "cell_type": "code",
   "execution_count": 15,
   "metadata": {},
   "outputs": [
    {
     "data": {
      "text/plain": [
       "array([6., 8.])"
      ]
     },
     "execution_count": 15,
     "metadata": {},
     "output_type": "execute_result"
    }
   ],
   "source": [
    "# function_2 = x^2 + y^2\n",
    "numerical_gradient(function_2,np.array([3.,4.]))"
   ]
  },
  {
   "cell_type": "code",
   "execution_count": 16,
   "metadata": {},
   "outputs": [
    {
     "data": {
      "text/plain": [
       "array([0., 8.])"
      ]
     },
     "execution_count": 16,
     "metadata": {},
     "output_type": "execute_result"
    }
   ],
   "source": [
    "f = function_2\n",
    "x = np.array([3.,4.])\n",
    "\n",
    "h = 1e-4\n",
    "grad = np.zeros_like(x)\n",
    "i = 1\n",
    "\n",
    "tmp_val = x[i]\n",
    "x[i] = tmp_val+h\n",
    "fxh1 = f(x)\n",
    "x[i] = tmp_val-h\n",
    "fxh2 = f(x)\n",
    "grad[i] = (fxh1-fxh2) / (2*h)\n",
    "grad"
   ]
  },
  {
   "cell_type": "code",
   "execution_count": 17,
   "metadata": {},
   "outputs": [
    {
     "name": "stderr",
     "output_type": "stream",
     "text": [
      "No handles with labels found to put in legend.\n"
     ]
    },
    {
     "name": "stdout",
     "output_type": "stream",
     "text": [
      "2\n"
     ]
    },
    {
     "data": {
      "image/png": "[encoded data removed]",
      "text/plain": [
       "<Figure size 432x288 with 1 Axes>"
      ]
     },
     "metadata": {
      "needs_background": "light"
     },
     "output_type": "display_data"
    }
   ],
   "source": [
    "x0 = np.arange(-2, 2.5, 0.25)\n",
    "x1 = np.arange(-2, 2.5, 0.25)\n",
    "X, Y = np.meshgrid(x0, x1)\n",
    "\n",
    "\n",
    "X = X.flatten()\n",
    "Y = Y.flatten()\n",
    "\n",
    "print(np.array([X,Y]).ndim)\n",
    "   \n",
    "grad = numerical_gradient(function_2, np.array([X, Y]) )\n",
    "    \n",
    "plt.figure()\n",
    "plt.quiver(X, Y, -grad[0], -grad[1],  angles=\"xy\",color=\"#666666\")#,headwidth=10,scale=40,color=\"#444444\")\n",
    "plt.xlim([-2, 2])\n",
    "plt.ylim([-2, 2])\n",
    "plt.xlabel('x0')\n",
    "plt.ylabel('x1')\n",
    "plt.grid()\n",
    "plt.legend()\n",
    "plt.draw()\n",
    "plt.show()"
   ]
  },
  {
   "cell_type": "markdown",
   "metadata": {},
   "source": [
    "## Gradient descend\n",
    "\n",
    "follow gradient direction where slop decreasing to found saddle point(slope is 0).\\\n",
    "algorithm to find minimum point.\n",
    "\n",
    "$\n",
    "\\displaystyle\n",
    "x_0 = x_0 - \\eta\\frac{\\partial f}{\\partial x_0}\\\\\n",
    "\\displaystyle\n",
    "x_1 = x_1 - \\eta\\frac{\\partial f}{\\partial x_1}\n",
    "$\n",
    "\n",
    "$\\eta$ means quantity that renew.\\\n",
    "In NNL, also called **_learning rate_** "
   ]
  },
  {
   "cell_type": "code",
   "execution_count": 18,
   "metadata": {},
   "outputs": [],
   "source": [
    "def gradient_descent(f,init_x,lr=0.01,step_num=100):\n",
    "    x = init_x\n",
    "    \n",
    "    for i in range(step_num):\n",
    "        grad = numerical_gradient(f,x)\n",
    "        x -= lr*grad\n",
    "    return x"
   ]
  },
  {
   "cell_type": "markdown",
   "metadata": {},
   "source": [
    "#### Q. found minimum val of $f(x_0,x_1)=x_0^2+x_1^2$"
   ]
  },
  {
   "cell_type": "code",
   "execution_count": 19,
   "metadata": {},
   "outputs": [],
   "source": [
    "def fn2(x):\n",
    "    return x[0]**2+x[1]**2"
   ]
  },
  {
   "cell_type": "code",
   "execution_count": 20,
   "metadata": {},
   "outputs": [
    {
     "data": {
      "text/plain": [
       "array([6.11110793e-10, 8.14814391e-10])"
      ]
     },
     "execution_count": 20,
     "metadata": {},
     "output_type": "execute_result"
    }
   ],
   "source": [
    "gradient_descent(fn2,np.array([3.,4.]),lr=0.1,step_num=100)"
   ]
  },
  {
   "cell_type": "code",
   "execution_count": 21,
   "metadata": {},
   "outputs": [],
   "source": [
    "def gradient_descent_history(f,init_x,lr=0.01,step_num=100):\n",
    "    x = init_x\n",
    "    x_history = []\n",
    "    \n",
    "    for i in range(step_num):\n",
    "        x_history.append(x.copy())\n",
    "        \n",
    "        grad = numerical_gradient(f,x)\n",
    "        x -= lr*grad\n",
    "    return x, np.array(x_history)"
   ]
  },
  {
   "cell_type": "code",
   "execution_count": 22,
   "metadata": {},
   "outputs": [
    {
     "data": {
      "image/png": "[encoded data removed]",
      "text/plain": [
       "<Figure size 432x288 with 1 Axes>"
      ]
     },
     "metadata": {
      "needs_background": "light"
     },
     "output_type": "display_data"
    }
   ],
   "source": [
    "x,x_history = gradient_descent_history(fn2,np.array([3.,4.]),lr=0.1,step_num=100)\n",
    "\n",
    "plt.plot( [-5, 5], [0,0], '--b')\n",
    "plt.plot( [0,0], [-5, 5], '--b')\n",
    "plt.plot(x_history[:,0], x_history[:,1], 'o')\n",
    "\n",
    "plt.xlim(-3.5, 3.5)\n",
    "plt.ylim(-4.5, 4.5)\n",
    "plt.xlabel(\"X0\")\n",
    "plt.ylabel(\"X1\")\n",
    "plt.show()"
   ]
  },
  {
   "cell_type": "code",
   "execution_count": 23,
   "metadata": {},
   "outputs": [
    {
     "data": {
      "text/plain": [
       "Text(0.5, 1.0, 'Simplest default with labels')"
      ]
     },
     "execution_count": 23,
     "metadata": {},
     "output_type": "execute_result"
    },
    {
     "data": {
      "image/png": "[encoded data removed]",
      "text/plain": [
       "<Figure size 432x288 with 1 Axes>"
      ]
     },
     "metadata": {
      "needs_background": "light"
     },
     "output_type": "display_data"
    }
   ],
   "source": [
    "delta = 0.025\n",
    "x = np.arange(-5.0, 5.0, delta)\n",
    "y = np.arange(-5.0, 5.0, delta)\n",
    "X, Y = np.meshgrid(x, y)\n",
    "Z1 = np.exp(-X**2 - Y**2)\n",
    "Z2 = np.exp(-(X - 1)**2 - (Y - 1)**2)\n",
    "Z = (Z1 - Z2) * 2\n",
    "\n",
    "fig, ax = plt.subplots()\n",
    "CS = ax.contour(X, Y, Z)\n",
    "ax.clabel(CS, inline=1, fontsize=10)\n",
    "ax.set_title('Simplest default with labels')"
   ]
  },
  {
   "cell_type": "code",
   "execution_count": 24,
   "metadata": {},
   "outputs": [
    {
     "data": {
      "text/plain": [
       "Text(0.5, 1.0, 'Simplest default with labels')"
      ]
     },
     "execution_count": 24,
     "metadata": {},
     "output_type": "execute_result"
    },
    {
     "data": {
      "image/png": "[encoded data removed]",
      "text/plain": [
       "<Figure size 432x288 with 1 Axes>"
      ]
     },
     "metadata": {
      "needs_background": "light"
     },
     "output_type": "display_data"
    }
   ],
   "source": [
    "delta = 0.025\n",
    "x = np.arange(-5.0, 5.0, delta)\n",
    "y = np.arange(-5.0, 5.0, delta)\n",
    "X, Y = np.meshgrid(x, y)\n",
    "Z = X**2+Y**2\n",
    "\n",
    "m,m_history = gradient_descent_history(fn2,np.array([3.,4.]),lr=0.1,step_num=100)\n",
    "\n",
    "# Too large learning rate\n",
    "m2,m2_history = gradient_descent_history(fn2,np.array([-3.,4.]),lr=1.,step_num=100)\n",
    "# Too small learning rate\n",
    "m3,m3_history = gradient_descent_history(fn2,np.array([-3.,-4.]),lr=1e-10,step_num=100)\n",
    "\n",
    "fig, ax = plt.subplots()\n",
    "CS = ax.contour(X, Y, Z)\n",
    "ax.plot(m_history[:,0], m_history[:,1], 'ok')\n",
    "ax.plot(m2_history[:,0], m2_history[:,1], 'ob')\n",
    "ax.plot(m3_history[:,0], m3_history[:,1], 'or')\n",
    "ax.clabel(CS, inline=1, fontsize=10)\n",
    "ax.set_title('Simplest default with labels')"
   ]
  },
  {
   "cell_type": "markdown",
   "metadata": {},
   "source": [
    "### Slope in NN\n",
    "\n",
    "if shape is $2\\times3$, weight is $W$, loss function is $L$,\\\n",
    "_slope_ is $\\displaystyle\\frac{\\partial L}{\\partial W}$\n",
    "\n",
    "\n",
    "> parameter like _learning rate_ is called **_hyper parameter_**.\\\n",
    "These parameters have to set manually.\n",
    "\n",
    "\n",
    "$\n",
    "W = \n",
    "    \\begin{pmatrix}\n",
    "        w_{11} & w_{12} & w_{13} \\\\\n",
    "        w_{21} & w_{22} & w_{23} \n",
    "    \\end{pmatrix}\\\\\n",
    "\\frac{\\partial L}{\\partial W} =\n",
    "    \\begin{pmatrix}\n",
    "        \\frac{\\partial L}{\\partial w_{11}} & \\frac{\\partial L}{\\partial w_{12}} & \\frac{\\partial L}{\\partial w_{13}} \\\\\n",
    "        \\frac{\\partial L}{\\partial w_{21}} & \\frac{\\partial L}{\\partial w_{22}} & \\frac{\\partial L}{\\partial w_{23}}\n",
    "    \\end{pmatrix}\n",
    "$"
   ]
  },
  {
   "cell_type": "code",
   "execution_count": 25,
   "metadata": {},
   "outputs": [],
   "source": [
    "class simpleNet:\n",
    "    def __init__(self):\n",
    "        self.W = np.random.randn(2,3) # Normal distribution\n",
    "        \n",
    "    def predict(self, x):\n",
    "        return np.dot(x, self.W)\n",
    "    \n",
    "    # x is imput data, t is answer label\n",
    "    def loss(self, x, t):\n",
    "        z = self.predict(x)\n",
    "        y = softmax(z)\n",
    "        loss = cross_entropy_error(y, t)\n",
    "        return loss"
   ]
  },
  {
   "cell_type": "code",
   "execution_count": 26,
   "metadata": {},
   "outputs": [
    {
     "name": "stdout",
     "output_type": "stream",
     "text": [
      "[[-0.91097825 -0.11733601  1.64943251]\n",
      " [ 0.68649556 -1.86055149  0.51183733]]\n",
      "[ 0.07125906 -1.74489795  1.4503131 ]\n",
      "2\n",
      "0.2567905761369811\n"
     ]
    }
   ],
   "source": [
    "net = simpleNet()\n",
    "print(net.W)\n",
    "\n",
    "x = np.array([.6,.9])\n",
    "p = net.predict(x)\n",
    "print(p)\n",
    "\n",
    "# index of max val\n",
    "print(np.argmax(p))\n",
    "\n",
    "# answer label(one-hot)\n",
    "t = np.array([0,0,1])\n",
    "print(net.loss(x,t))"
   ]
  },
  {
   "cell_type": "code",
   "execution_count": 27,
   "metadata": {},
   "outputs": [
    {
     "name": "stdout",
     "output_type": "stream",
     "text": [
      "[[ 0.11687264  0.01900929 -0.13588193]\n",
      " [ 0.17530896  0.02851393 -0.20382289]]\n"
     ]
    }
   ],
   "source": [
    "# slope\n",
    "\n",
    "# W is dummy value\n",
    "f = lambda w: net.loss(x, t)\n",
    "\n",
    "dW = numerical_gradient(f, net.W)\n",
    "print(dW)"
   ]
  },
  {
   "cell_type": "markdown",
   "metadata": {},
   "source": [
    "## Embody learning algorithm\n",
    "\n",
    "1st - embody mini batch\\\n",
    "2nd - find slope of each weight's args to decrease loss function's val\\\n",
    "3rd - renew arg to slope direction\\\n",
    "4th - repeat\n",
    "\n",
    "### Stochastic Gradient Decent(SGD)\n",
    "\n",
    "gradient descend method in randomly be chosen data"
   ]
  },
  {
   "cell_type": "code",
   "execution_count": 28,
   "metadata": {},
   "outputs": [
    {
     "data": {
      "text/plain": [
       "{'a': 3}"
      ]
     },
     "execution_count": 28,
     "metadata": {},
     "output_type": "execute_result"
    }
   ],
   "source": [
    "test = {}\n",
    "test['a'] = 3\n",
    "test"
   ]
  },
  {
   "cell_type": "code",
   "execution_count": 2,
   "metadata": {},
   "outputs": [],
   "source": [
    "class TwoLayerNet:\n",
    "    #                  ipt neuron, hid neuron , opt neuron\n",
    "    def __init__(self, input_size, hidden_size, output_size, weight_init_std=0.01):\n",
    "        # Define dictionary\n",
    "        self.params = {}\n",
    "        self.params['W1'] = weight_init_std * np.random.randn(input_size, hidden_size)\n",
    "        self.params['b1'] = np.zeros(hidden_size)\n",
    "        self.params['W2'] = weight_init_std * np.random.randn(hidden_size, output_size)\n",
    "        self.params['b2'] = np.zeros(output_size)\n",
    "        \n",
    "    def predict(self, x):\n",
    "        W1, W2 = self.params['W1'], self.params['W2']\n",
    "        b1, b2 = self.params['b1'], self.params['b2']\n",
    "        \n",
    "        a1 = np.dot(x, W1) + b1\n",
    "        z1 = sigmoid(a1)\n",
    "        a2 = np.dot(z1, W2) + b2\n",
    "        y = sigmoid(a2)\n",
    "        return y\n",
    "    \n",
    "    # x: ipt data, t: ans label\n",
    "    def loss(self, x, t):\n",
    "        y = self.predict(x)\n",
    "        \n",
    "        return cross_entropy_error(y, t)\n",
    "    \n",
    "    def accuracy(self, x, t):\n",
    "        # shape: (ipt_row_size, output_size)\n",
    "        y = self.predict(x)\n",
    "        y = np.argmax(y, axis=1)\n",
    "        t = np.argmax(t, axis=1)\n",
    "        accuracy = np.sum(y == t) / float(x.shape[0])\n",
    "        \n",
    "        return accuracy\n",
    "    \n",
    "    # x: ipt data, t: ans label\n",
    "    def numerical_gradient(self, x, t):\n",
    "        loss_W = lambda W: self.loss(x,t)\n",
    "        \n",
    "        grads = {}\n",
    "        grads['W1'] = numerical_gradient(loss_W, self.params['W1'])\n",
    "        grads['b1'] = numerical_gradient(loss_W, self.params['b1'])\n",
    "        grads['W2'] = numerical_gradient(loss_W, self.params['W2'])\n",
    "        grads['b2'] = numerical_gradient(loss_W, self.params['b2'])\n",
    "        \n",
    "        return grads\n",
    "    \n",
    "    def gradient(self, x, t):\n",
    "        W1, W2 = self.params['W1'], self.params['W2']\n",
    "        b1, b2 = self.params['b1'], self.params['b2']\n",
    "        grads = {}\n",
    "        \n",
    "        batch_num = x.shape[0]\n",
    "        \n",
    "        # forward\n",
    "        a1 = np.dot(x, W1) + b1\n",
    "        z1 = sigmoid(a1)\n",
    "        a2 = np.dot(z1, W2) + b2\n",
    "        y = softmax(a2)\n",
    "        \n",
    "        # backward\n",
    "        dy = (y - t) / batch_num\n",
    "        grads['W2'] = np.dot(z1.T, dy)\n",
    "        grads['b2'] = np.sum(dy, axis=0)\n",
    "        \n",
    "        da1 = np.dot(dy, W2.T)\n",
    "        dz1 = sigmoid_grad(a1) * da1\n",
    "        grads['W1'] = np.dot(x.T, dz1)\n",
    "        grads['b1'] = np.sum(dz1, axis=0)\n",
    "\n",
    "        return grads"
   ]
  },
  {
   "cell_type": "code",
   "execution_count": 30,
   "metadata": {},
   "outputs": [
    {
     "name": "stdout",
     "output_type": "stream",
     "text": [
      "(784, 100)\n",
      "(100,)\n",
      "(100, 10)\n",
      "(10,)\n"
     ]
    }
   ],
   "source": [
    "net = TwoLayerNet(input_size=784, hidden_size=100, output_size=10)\n",
    "print(net.params['W1'].shape)\n",
    "print(net.params['b1'].shape)\n",
    "print(net.params['W2'].shape)\n",
    "print(net.params['b2'].shape)"
   ]
  },
  {
   "cell_type": "code",
   "execution_count": 42,
   "metadata": {},
   "outputs": [
    {
     "data": {
      "text/plain": [
       "0.06"
      ]
     },
     "execution_count": 42,
     "metadata": {},
     "output_type": "execute_result"
    }
   ],
   "source": [
    "# Example run\n",
    "\n",
    "# dummy data\n",
    "x = np.random.rand(100,784)\n",
    "# dummy ans label\n",
    "t = np.random.rand(100,10)\n",
    "\n",
    "# slope\n",
    "grads = net.numerical_gradient(x, t)\n",
    "\n",
    "y = net.predict(x)\n",
    "\n",
    "grads['W1'].shape # (784,100)\n",
    "y.shape # (100,10)\n",
    "net.accuracy(x, t)"
   ]
  },
  {
   "cell_type": "code",
   "execution_count": 41,
   "metadata": {},
   "outputs": [
    {
     "data": {
      "text/plain": [
       "array([ True, False,  True,  True])"
      ]
     },
     "execution_count": 41,
     "metadata": {},
     "output_type": "execute_result"
    }
   ],
   "source": [
    "testA = np.array([0,0,0,1])\n",
    "testB = np.array([0,1,0,1])\n",
    "# print Boolean np.array (True == 1, False == 0)\n",
    "np.sum(testA == testB) # 3\n",
    "testA == testB"
   ]
  },
  {
   "cell_type": "markdown",
   "metadata": {},
   "source": [
    "### Embody mini-batch learning"
   ]
  },
  {
   "cell_type": "code",
   "execution_count": 46,
   "metadata": {},
   "outputs": [],
   "source": [
    "(x_train,t_train), (x_test,t_test) = load_mnist(normalize=True,one_hot_label=True)\n",
    "\n",
    "train_loss_list = []\n",
    "\n",
    "# Hyperparameter\n",
    "iters_num = 10000 # repeat num\n",
    "train_size = x_train.shape[0]\n",
    "batch_size = 100 # mini-batch size\n",
    "learning_rate = 0.1\n",
    "network = TwoLayerNet(input_size=784,hidden_size=50,output_size=10)\n",
    "\n",
    "for i in range(iters_num):\n",
    "    # get mini-batch\n",
    "    batch_mask = np.random.choice(train_size,batch_size)\n",
    "    x_batch = x_train[batch_mask]\n",
    "    t_batch = t_train[batch_mask]\n",
    "    \n",
    "    # cal slope\n",
    "    grad = network.gradient(x_batch,t_batch)\n",
    "    \n",
    "    # renew params\n",
    "    for key in ('W1', 'b1', 'W2', 'b2'):\n",
    "        network.params[key] -= learning_rate * grad[key]\n",
    "        \n",
    "    # record\n",
    "    loss = network.loss(x_batch, t_batch)\n",
    "    train_loss_list.append(loss)"
   ]
  },
  {
   "cell_type": "code",
   "execution_count": 63,
   "metadata": {},
   "outputs": [
    {
     "data": {
      "image/png": "[encoded data removed]",
      "text/plain": [
       "<Figure size 432x288 with 1 Axes>"
      ]
     },
     "metadata": {
      "needs_background": "light"
     },
     "output_type": "display_data"
    }
   ],
   "source": [
    "x = np.arange(0,10000)\n",
    "y = np.array(train_loss_list)\n",
    "\n",
    "# fig, ax = plt.subplots()\n",
    "plt.plot(x,y)\n",
    "plt.xlim(0,1000)\n",
    "plt.xlabel(\"iteration\")\n",
    "plt.ylabel(\"loss-function\")\n",
    "plt.title(\"Value of loss-function in test training\")\n",
    "plt.show()"
   ]
  },
  {
   "cell_type": "markdown",
   "metadata": {},
   "source": [
    "### Evaluate with test data\n",
    "\n",
    "check _overfitting_\n",
    "\n",
    "> 1 `epoch` is unit when exhausting total training data cycle.\\\n",
    "When processing 1000 datas with 20 mini-batches, we need 50 process to exhaust all data. In this case, 1 epoch == 50 process\n",
    "\n",
    "we'll check accuracy and training data in every epoch"
   ]
  },
  {
   "cell_type": "code",
   "execution_count": 10,
   "metadata": {},
   "outputs": [
    {
     "data": {
      "text/plain": [
       "array([9, 3, 3, 5, 5, 9, 1])"
      ]
     },
     "execution_count": 10,
     "metadata": {},
     "output_type": "execute_result"
    }
   ],
   "source": [
    "np.random.choice(10, 7)"
   ]
  },
  {
   "cell_type": "code",
   "execution_count": 14,
   "metadata": {},
   "outputs": [
    {
     "name": "stdout",
     "output_type": "stream",
     "text": [
      "Train acc, test acc | 0.10441666666666667, 0.1028\n",
      "Train acc, test acc | 0.8032833333333333, 0.8067\n",
      "Train acc, test acc | 0.8763, 0.8824\n",
      "Train acc, test acc | 0.8968333333333334, 0.9004\n",
      "Train acc, test acc | 0.9079666666666667, 0.9109\n",
      "Train acc, test acc | 0.9148166666666666, 0.9163\n",
      "Train acc, test acc | 0.9198333333333333, 0.9228\n",
      "Train acc, test acc | 0.92565, 0.9258\n",
      "Train acc, test acc | 0.9293666666666667, 0.9299\n",
      "Train acc, test acc | 0.93225, 0.9333\n",
      "Train acc, test acc | 0.93545, 0.9356\n",
      "Train acc, test acc | 0.9368333333333333, 0.9368\n",
      "Train acc, test acc | 0.9401166666666667, 0.9402\n",
      "Train acc, test acc | 0.9425666666666667, 0.9408\n",
      "Train acc, test acc | 0.9443166666666667, 0.9436\n",
      "Train acc, test acc | 0.9457333333333333, 0.9452\n",
      "Train acc, test acc | 0.9469666666666666, 0.9459\n"
     ]
    }
   ],
   "source": [
    "(x_train,t_train), (x_test,t_test) = load_mnist(normalize=True, one_hot_label=True)\n",
    "\n",
    "network = TwoLayerNet(input_size=784, hidden_size=50, output_size=10)\n",
    "\n",
    "# Hyperparams\n",
    "iters_num = int(10e+3)\n",
    "train_size = x_train.shape[0]\n",
    "batch_size = 100\n",
    "learning_rate = 0.1\n",
    "\n",
    "train_loss_list = []\n",
    "train_acc_list = []\n",
    "test_acc_list = []\n",
    "\n",
    "# repeat rate per epoch\n",
    "iter_per_epoch = max(train_size / batch_size, 1)\n",
    "\n",
    "for i in range(iters_num):\n",
    "    # acquire minibatch\n",
    "    batch_mask = np.random.choice(train_size,batch_size)\n",
    "    x_batch = x_train[batch_mask]\n",
    "    t_batch = t_train[batch_mask]\n",
    "    \n",
    "    # cal slope\n",
    "    grad = network.gradient(x_batch, t_batch)\n",
    "    \n",
    "    for key in ('W1', 'b1', 'W2', 'b2'):\n",
    "        network.params[key] -= learning_rate * grad[key]\n",
    "        \n",
    "    # record\n",
    "    loss = network.loss(x_batch, t_batch)\n",
    "    train_loss_list.append(loss)\n",
    "    \n",
    "    # cal accuracy per epoch\n",
    "    if i % iter_per_epoch == 0:\n",
    "        train_acc = network.accuracy(x_train, t_train)\n",
    "        test_acc = network.accuracy(x_test, t_test)\n",
    "        \n",
    "        train_acc_list.append(train_acc)\n",
    "        test_acc_list.append(test_acc)\n",
    "        print(\"Train acc, test acc | \" + str(train_acc) + \", \" + str(test_acc))"
   ]
  },
  {
   "cell_type": "code",
   "execution_count": 46,
   "metadata": {},
   "outputs": [
    {
     "data": {
      "image/png": "[encoded data removed]",
      "text/plain": [
       "<Figure size 432x288 with 1 Axes>"
      ]
     },
     "metadata": {
      "needs_background": "light"
     },
     "output_type": "display_data"
    }
   ],
   "source": [
    "x = np.arange(0,17,1)\n",
    "\n",
    "fig, ax = plt.subplots()\n",
    "fig.suptitle(\"Accuracy per epochs\")\n",
    "\n",
    "ax.plot(x, test_acc_list, '-b', x, train_acc_list, '--r')\n",
    "ax.set_xlabel(\"epochs\")\n",
    "ax.set_ylabel(\"accurcy\")\n",
    "ax.legend((\"test acc\",\"train acc\"))\n",
    "\n",
    "plt.show()\n",
    "\n",
    "# test acc ~= train acc.\n",
    "# so no overfitting is occured"
   ]
  },
  {
   "cell_type": "code",
   "execution_count": 52,
   "metadata": {},
   "outputs": [
    {
     "data": {
      "image/png": "[encoded data removed]",
      "text/plain": [
       "<Figure size 432x288 with 2 Axes>"
      ]
     },
     "metadata": {
      "needs_background": "light"
     },
     "output_type": "display_data"
    }
   ],
   "source": [
    "# ver2\n",
    "x = np.arange(0,17,1)\n",
    "\n",
    "fig, ax = plt.subplots(2, sharex=True, sharey=True, constrained_layout=True)\n",
    "fig.suptitle(\"Accuracy per epochs\")\n",
    "\n",
    "ax[0].plot(x, test_acc_list, '-k')\n",
    "ax[0].set_xlabel(\"epochs\")\n",
    "ax[0].set_ylabel(\"accurcy\")\n",
    "ax[0].set_title(\"Test accuarcy\")\n",
    "\n",
    "ax[1].plot(x, train_acc_list, '-k')\n",
    "ax[1].set_xlabel(\"epochs\")\n",
    "ax[1].set_ylabel(\"accurcy\")\n",
    "ax[1].set_title(\"Train accuracy\")\n",
    "\n",
    "plt.show()"
   ]
  }
 ],
 "metadata": {
  "kernelspec": {
   "name": "pycharm-97a3d92e",
   "language": "python",
   "display_name": "PyCharm (DeepLearning)"
  },
  "language_info": {
   "codemirror_mode": {
    "name": "ipython",
    "version": 3
   },
   "file_extension": ".py",
   "mimetype": "text/x-python",
   "name": "python",
   "nbconvert_exporter": "python",
   "pygments_lexer": "ipython3",
   "version": "3.7.4"
  }
 },
 "nbformat": 4,
 "nbformat_minor": 2
}