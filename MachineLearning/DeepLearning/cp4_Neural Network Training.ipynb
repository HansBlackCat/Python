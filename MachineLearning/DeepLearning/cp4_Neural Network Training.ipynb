{
 "cells": [
  {
   "cell_type": "code",
   "execution_count": 1,
   "metadata": {},
   "outputs": [],
   "source": [
    "import numpy as np\n",
    "import sys, os\n",
    "sys.path.append(os.pardir)\n",
    "from dataset.mnist import load_mnist\n",
    "import matplotlib.pylab as plt"
   ]
  },
  {
   "cell_type": "markdown",
   "metadata": {},
   "source": [
    "# NNT\n",
    "Data -> Humans' Effort(SIFT,HOG,..) -> **MachineTraining(SVM,KNN,..)** -> Output\\\n",
    "Data -> **Neural Network(Deep Learning)** -> Output\\\n",
    "\n",
    "Deep Learning need _training data_ , _test data_"
   ]
  },
  {
   "cell_type": "markdown",
   "metadata": {},
   "source": [
    "## Standard index\n",
    "### lose function(cost function)\n",
    "MSE (Mean Squared Error)\n",
    "\n",
    "$\n",
    "E = \\displaystyle\\frac{1}{2}\\sum_{k}(y_k-t_k)^2\n",
    "$\n",
    "\n",
    "$y_k$ Output of NN\\\n",
    "$t_k$ Answer label\\\n",
    "$k$ Dimension of Data"
   ]
  },
  {
   "cell_type": "code",
   "execution_count": 2,
   "metadata": {},
   "outputs": [],
   "source": [
    "def mean_squared_error(y, t):\n",
    "    return 0.5*np.sum((y-t)**2)"
   ]
  },
  {
   "cell_type": "code",
   "execution_count": 3,
   "metadata": {},
   "outputs": [
    {
     "name": "stdout",
     "output_type": "stream",
     "text": [
      "0.09250000000000003\n",
      "0.5925\n"
     ]
    }
   ],
   "source": [
    "# If num \n",
    "# t: answer is `2`\n",
    "t = [0,0,1,0,0,0,0,0]\n",
    "# y: estimate `2` is answer (0.6)\n",
    "y = [0.1,0.05,0.6,0.0,0.05,0.1,0.0,0.0]\n",
    "print(mean_squared_error(np.array(y),np.array(t)))\n",
    "\n",
    "# y: estimate `7` is answer (0.6)\n",
    "y = [0.1,0.05,0.1,0.0,0.05,0.6,0.0,0.0]\n",
    "print(mean_squared_error(np.array(y),np.array(t)))"
   ]
  },
  {
   "cell_type": "markdown",
   "metadata": {},
   "source": [
    "CEE (Cross Entropy Error)\n",
    "\n",
    "$\n",
    "E = -\\displaystyle\\sum_{k}t_k\\log{y_k}\n",
    "$\n",
    "\n",
    "$y_k$ Output of NN\\\n",
    "$t_k$ Answer label (One-hot encoding)\\\n",
    "$k$ Dimension of Data"
   ]
  },
  {
   "cell_type": "code",
   "execution_count": 4,
   "metadata": {},
   "outputs": [],
   "source": [
    "def cross_entropy_error(y,t):\n",
    "    # use delta cause log0 = -inf\n",
    "    delta = 1e-7\n",
    "    return -np.sum(t*np.log(y+delta))"
   ]
  },
  {
   "cell_type": "code",
   "execution_count": 5,
   "metadata": {},
   "outputs": [
    {
     "name": "stdout",
     "output_type": "stream",
     "text": [
      "0.510825457099338\n",
      "2.302584092994546\n"
     ]
    }
   ],
   "source": [
    "# t: answer is `2`\n",
    "t = [0,0,1,0,0,0,0,0]\n",
    "# y: estimate `2` is answer (0.6)\n",
    "y = [0.1,0.05,0.6,0.0,0.05,0.1,0.0,0.0]\n",
    "print(cross_entropy_error(np.array(y),np.array(t)))\n",
    "\n",
    "# y: estimate `7` is answer (0.6)\n",
    "y = [0.1,0.05,0.1,0.0,0.05,0.6,0.0,0.0]\n",
    "print(cross_entropy_error(np.array(y),np.array(t)))"
   ]
  },
  {
   "cell_type": "markdown",
   "metadata": {},
   "source": [
    "### Minibatch Learning\n",
    "\n",
    "Due to ineffciency in checking all lost functions, it's recommended to randomly choose some ipt data, and  calculate lose functions of them.\n",
    "\n",
    "$\n",
    "E = \\displaystyle-\\frac{1}{N}\\sum_{n}\\sum_{k}t_{nk}\\log{y_{nk}}\n",
    "$\n",
    "\n"
   ]
  },
  {
   "cell_type": "code",
   "execution_count": 6,
   "metadata": {},
   "outputs": [],
   "source": [
    "(x_train,t_train), (x_test,t_test) = load_mnist(normalize=True,one_hot_label=True)\n",
    "\n",
    "train_size = x_train.shape[0]\n",
    "batch_size = 10\n",
    "batch_mask = np.random.choice(train_size,batch_size) # 0<{NUM}<train_size, len({NUM})=batch_size\n",
    "x_batch = x_train[batch_mask]\n",
    "t_batch = t_train[batch_mask]"
   ]
  },
  {
   "cell_type": "code",
   "execution_count": 7,
   "metadata": {},
   "outputs": [],
   "source": [
    "# CEE (for batch)\n",
    "def cross_entropy_errorB(y,t):\n",
    "    # y: NN opt, t: one-hot-label\n",
    "    if y.ndim == 1:\n",
    "        t = t.reshape(1,t.size)\n",
    "        y = y.reshape(1,y.size)\n",
    "    batch_size = y.shape[0]\n",
    "    return -np.sum(t*np.log(y+1e-7))/batch_size"
   ]
  },
  {
   "cell_type": "code",
   "execution_count": 8,
   "metadata": {},
   "outputs": [],
   "source": [
    "# batch CEE when t isn't one-hot-encoded\n",
    "def cross_entropy_errorB_nonOneHot(y,t):\n",
    "    if y.ndim == 1:\n",
    "        t = t.reshape(1,t.size)\n",
    "        y = y.reshape(1,y.size)\n",
    "    batch_size = y.shape[0]\n",
    "    return -np.sum(np.log(y[np.arange(batch_size),t]+1e-7))/batch_size"
   ]
  },
  {
   "cell_type": "code",
   "execution_count": 9,
   "metadata": {},
   "outputs": [
    {
     "data": {
      "text/plain": [
       "2"
      ]
     },
     "execution_count": 9,
     "metadata": {},
     "output_type": "execute_result"
    }
   ],
   "source": [
    "testTemp = np.arange(0,20)\n",
    "# testTemp.ndim == 1\n",
    "testTemp = testTemp.reshape(2,10)\n",
    "testTemp.ndim"
   ]
  },
  {
   "cell_type": "markdown",
   "metadata": {},
   "source": [
    "### Calculus\n",
    "\n",
    "reason why we use lost functions is to fit error with calculus.\\\n",
    "when we use formal stair-shape function, slope will be either 0 or inf."
   ]
  },
  {
   "cell_type": "code",
   "execution_count": 10,
   "metadata": {},
   "outputs": [],
   "source": [
    "def numerical_diff(f,x):\n",
    "    h = 1e-4 # known to fit well\n",
    "    return (f(x+h)-f(x-h))/(2*h)"
   ]
  },
  {
   "cell_type": "code",
   "execution_count": 16,
   "metadata": {},
   "outputs": [
    {
     "data": {
      "image/png": "[encoded data removed]",
      "text/plain": [
       "<Figure size 432x288 with 1 Axes>"
      ]
     },
     "metadata": {
      "needs_background": "light"
     },
     "output_type": "display_data"
    }
   ],
   "source": [
    "def fn_1(x):\n",
    "    return 0.01*x**2 + 0.1*x\n",
    "\n",
    "x = np.arange(0.0,20.0,0.1)\n",
    "y = fn_1(x)\n",
    "\n",
    "plt.xlim(0,20)\n",
    "plt.xlabel(\"x\"); plt.ylabel(\"f(x)\")\n",
    "plt.plot(x,y)\n",
    "plt.plot(x,numerical_diff(fn_1,12)*(x-12)+fn_1(12)) \n",
    "plt.show()"
   ]
  },
  {
   "cell_type": "markdown",
   "metadata": {},
   "source": [
    "**Gradient**\n",
    "\n",
    "$\n",
    "\\displaystyle(\\frac{\\partial{f}}{x_0},\\frac{\\partial{f}}{x_1},\\dots)\n",
    "$"
   ]
  },
  {
   "cell_type": "code",
   "execution_count": 17,
   "metadata": {},
   "outputs": [],
   "source": [
    "def numerical_gradient(f,x):\n",
    "    h = 1e-4\n",
    "    grad = np.zero_like(x) # has same shape as x\n",
    "    for idx in range(x.size):\n",
    "        tmp_val = x[idx]\n",
    "        x[idx] = tmp_val+h\n",
    "        fxh1 = f(x)\n",
    "        \n",
    "        x[idx] = tmp_val - h\n",
    "        fxh2 = f(x)\n",
    "        \n",
    "        grad[idx] = (fxh1-fxh2) / (2*h)\n",
    "        x[idx] = tmp_val # restore value\n",
    "    return grad"
   ]
  },
  {
   "cell_type": "code",
   "execution_count": null,
   "metadata": {},
   "outputs": [],
   "source": []
  }
 ],
 "metadata": {
  "kernelspec": {
   "display_name": "Python 3",
   "language": "python",
   "name": "python3"
  },
  "language_info": {
   "codemirror_mode": {
    "name": "ipython",
    "version": 3
   },
   "file_extension": ".py",
   "mimetype": "text/x-python",
   "name": "python",
   "nbconvert_exporter": "python",
   "pygments_lexer": "ipython3",
   "version": "3.7.4"
  }
 },
 "nbformat": 4,
 "nbformat_minor": 2
}
