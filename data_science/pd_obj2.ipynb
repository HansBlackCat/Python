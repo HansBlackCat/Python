{
 "cells": [
  {
   "cell_type": "code",
   "execution_count": 46,
   "metadata": {
    "collapsed": true,
    "pycharm": {
     "is_executing": false
    }
   },
   "outputs": [],
   "source": [
    "import numpy as np\n",
    "import pandas as pd"
   ]
  },
  {
   "cell_type": "code",
   "execution_count": 47,
   "outputs": [
    {
     "data": {
      "text/plain": "a    0.25\nb    0.50\nc    0.75\nd    1.00\ndtype: float64"
     },
     "metadata": {},
     "output_type": "execute_result",
     "execution_count": 47
    }
   ],
   "source": [
    "data=pd.Series([0.25*i for i in range(1,5)],\n",
    "               index=['a','b','c','d'])\n",
    "data"
   ],
   "metadata": {
    "collapsed": false,
    "pycharm": {
     "name": "#%%\n",
     "is_executing": false
    }
   }
  },
  {
   "cell_type": "code",
   "execution_count": 48,
   "outputs": [
    {
     "name": "stdout",
     "text": [
      "True\nIndex(['a', 'b', 'c', 'd'], dtype='object')\n[('a', 0.25), ('b', 0.5), ('c', 0.75), ('d', 1.0)]\n"
     ],
     "output_type": "stream"
    }
   ],
   "source": [
    "print('a' in data)\n",
    "print(data.keys())\n",
    "print(list(data.items()))"
   ],
   "metadata": {
    "collapsed": false,
    "pycharm": {
     "name": "#%%\n",
     "is_executing": false
    }
   }
  },
  {
   "cell_type": "code",
   "execution_count": 49,
   "outputs": [
    {
     "data": {
      "text/plain": "a    0.25\nb    0.50\nc    0.75\nd    1.00\ne    1.25\ndtype: float64"
     },
     "metadata": {},
     "output_type": "execute_result",
     "execution_count": 49
    }
   ],
   "source": [
    "data['e']=1.25\n",
    "data"
   ],
   "metadata": {
    "collapsed": false,
    "pycharm": {
     "name": "#%%\n",
     "is_executing": false
    }
   }
  },
  {
   "cell_type": "code",
   "execution_count": 50,
   "outputs": [
    {
     "name": "stdout",
     "text": [
      "a    0.25\nb    0.50\ndtype: float64\na    0.25\nb    0.50\ndtype: float64\nb    0.50\nc    0.75\nd    1.00\ne    1.25\ndtype: float64\na    0.25\nd    1.00\ndtype: float64\n"
     ],
     "output_type": "stream"
    }
   ],
   "source": [
    "print(data['a':'b'])\n",
    "print(data[0:2])\n",
    "print(data[(data>0.3)&(data<8)])\n",
    "print(data[['a','d']])"
   ],
   "metadata": {
    "collapsed": false,
    "pycharm": {
     "name": "#%%\n",
     "is_executing": false
    }
   }
  },
  {
   "cell_type": "code",
   "execution_count": 51,
   "outputs": [
    {
     "data": {
      "text/plain": "1    a\n3    b\n5    c\ndtype: object"
     },
     "metadata": {},
     "output_type": "execute_result",
     "execution_count": 51
    }
   ],
   "source": [
    "data=pd.Series(['a','b','c'],index=[1,3,5])\n",
    "data"
   ],
   "metadata": {
    "collapsed": false,
    "pycharm": {
     "name": "#%%\n",
     "is_executing": false
    }
   }
  },
  {
   "cell_type": "code",
   "execution_count": 52,
   "outputs": [
    {
     "name": "stdout",
     "text": [
      "a\n3    b\n5    c\ndtype: object\n"
     ],
     "output_type": "stream"
    }
   ],
   "source": [
    "print(data[1])\n",
    "print(data[1:3])"
   ],
   "metadata": {
    "collapsed": false,
    "pycharm": {
     "name": "#%%\n",
     "is_executing": false
    }
   }
  },
  {
   "cell_type": "code",
   "execution_count": 53,
   "outputs": [
    {
     "name": "stdout",
     "text": [
      "b\n3    b\n5    c\ndtype: object\n"
     ],
     "output_type": "stream"
    }
   ],
   "source": [
    "print(data.iloc[1])\n",
    "print(data.iloc[1:3])"
   ],
   "metadata": {
    "collapsed": false,
    "pycharm": {
     "name": "#%%\n",
     "is_executing": false
    }
   }
  },
  {
   "cell_type": "code",
   "execution_count": 54,
   "outputs": [
    {
     "name": "stdout",
     "text": [
      "a\n1    a\n3    b\ndtype: object\n"
     ],
     "output_type": "stream"
    }
   ],
   "source": [
    "print(data.loc[1])\n",
    "print(data.loc[1:3])"
   ],
   "metadata": {
    "collapsed": false,
    "pycharm": {
     "name": "#%%\n",
     "is_executing": false
    }
   }
  },
  {
   "cell_type": "code",
   "execution_count": 55,
   "outputs": [
    {
     "data": {
      "text/plain": "      area       pop\nCA   42397  38332521\nTX  695662  26448193\nNY  141297  19651127\nFL  170312  19552860\nIL  149995  12882135",
      "text/html": "<div>\n<style scoped>\n    .dataframe tbody tr th:only-of-type {\n        vertical-align: middle;\n    }\n\n    .dataframe tbody tr th {\n        vertical-align: top;\n    }\n\n    .dataframe thead th {\n        text-align: right;\n    }\n</style>\n<table border=\"1\" class=\"dataframe\">\n  <thead>\n    <tr style=\"text-align: right;\">\n      <th></th>\n      <th>area</th>\n      <th>pop</th>\n    </tr>\n  </thead>\n  <tbody>\n    <tr>\n      <td>CA</td>\n      <td>42397</td>\n      <td>38332521</td>\n    </tr>\n    <tr>\n      <td>TX</td>\n      <td>695662</td>\n      <td>26448193</td>\n    </tr>\n    <tr>\n      <td>NY</td>\n      <td>141297</td>\n      <td>19651127</td>\n    </tr>\n    <tr>\n      <td>FL</td>\n      <td>170312</td>\n      <td>19552860</td>\n    </tr>\n    <tr>\n      <td>IL</td>\n      <td>149995</td>\n      <td>12882135</td>\n    </tr>\n  </tbody>\n</table>\n</div>"
     },
     "metadata": {},
     "output_type": "execute_result",
     "execution_count": 55
    }
   ],
   "source": [
    "area=pd.Series({'CA':42397,'TX':695662,'NY':141297,'FL':170312,'IL':149995})\n",
    "pop=pd.Series({'CA':38332521,'TX':26448193,'NY':19651127,'FL':19552860,'IL':12882135})\n",
    "\n",
    "data=pd.DataFrame({'area':area,'pop':pop})\n",
    "data"
   ],
   "metadata": {
    "collapsed": false,
    "pycharm": {
     "name": "#%%\n",
     "is_executing": false
    }
   }
  },
  {
   "cell_type": "code",
   "execution_count": 56,
   "outputs": [
    {
     "data": {
      "text/plain": "CA     42397\nTX    695662\nNY    141297\nFL    170312\nIL    149995\nName: area, dtype: int64"
     },
     "metadata": {},
     "output_type": "execute_result",
     "execution_count": 56
    }
   ],
   "source": [
    "data['area']"
   ],
   "metadata": {
    "collapsed": false,
    "pycharm": {
     "name": "#%%\n",
     "is_executing": false
    }
   }
  },
  {
   "cell_type": "code",
   "execution_count": 57,
   "outputs": [
    {
     "data": {
      "text/plain": "CA     42397\nTX    695662\nNY    141297\nFL    170312\nIL    149995\nName: area, dtype: int64"
     },
     "metadata": {},
     "output_type": "execute_result",
     "execution_count": 57
    }
   ],
   "source": [
    "data.area"
   ],
   "metadata": {
    "collapsed": false,
    "pycharm": {
     "name": "#%%\n",
     "is_executing": false
    }
   }
  },
  {
   "cell_type": "code",
   "execution_count": 58,
   "outputs": [
    {
     "name": "stdout",
     "text": [
      "True\nFalse\n"
     ],
     "output_type": "stream"
    }
   ],
   "source": [
    "print(data.area is data['area'])\n",
    "print(data.pop is data['pop'])"
   ],
   "metadata": {
    "collapsed": false,
    "pycharm": {
     "name": "#%%\n",
     "is_executing": false
    }
   }
  },
  {
   "cell_type": "code",
   "execution_count": 59,
   "outputs": [
    {
     "data": {
      "text/plain": "      area       pop     density\nCA   42397  38332521  904.132863\nTX  695662  26448193   38.018740\nNY  141297  19651127  139.076746\nFL  170312  19552860  114.806121\nIL  149995  12882135   85.883763",
      "text/html": "<div>\n<style scoped>\n    .dataframe tbody tr th:only-of-type {\n        vertical-align: middle;\n    }\n\n    .dataframe tbody tr th {\n        vertical-align: top;\n    }\n\n    .dataframe thead th {\n        text-align: right;\n    }\n</style>\n<table border=\"1\" class=\"dataframe\">\n  <thead>\n    <tr style=\"text-align: right;\">\n      <th></th>\n      <th>area</th>\n      <th>pop</th>\n      <th>density</th>\n    </tr>\n  </thead>\n  <tbody>\n    <tr>\n      <td>CA</td>\n      <td>42397</td>\n      <td>38332521</td>\n      <td>904.132863</td>\n    </tr>\n    <tr>\n      <td>TX</td>\n      <td>695662</td>\n      <td>26448193</td>\n      <td>38.018740</td>\n    </tr>\n    <tr>\n      <td>NY</td>\n      <td>141297</td>\n      <td>19651127</td>\n      <td>139.076746</td>\n    </tr>\n    <tr>\n      <td>FL</td>\n      <td>170312</td>\n      <td>19552860</td>\n      <td>114.806121</td>\n    </tr>\n    <tr>\n      <td>IL</td>\n      <td>149995</td>\n      <td>12882135</td>\n      <td>85.883763</td>\n    </tr>\n  </tbody>\n</table>\n</div>"
     },
     "metadata": {},
     "output_type": "execute_result",
     "execution_count": 59
    }
   ],
   "source": [
    "data['density']=data['pop']/data['area']\n",
    "data"
   ],
   "metadata": {
    "collapsed": false,
    "pycharm": {
     "name": "#%%\n",
     "is_executing": false
    }
   }
  },
  {
   "cell_type": "code",
   "execution_count": 60,
   "outputs": [
    {
     "data": {
      "text/plain": "array([[4.23970000e+04, 3.83325210e+07, 9.04132863e+02],\n       [6.95662000e+05, 2.64481930e+07, 3.80187404e+01],\n       [1.41297000e+05, 1.96511270e+07, 1.39076746e+02],\n       [1.70312000e+05, 1.95528600e+07, 1.14806121e+02],\n       [1.49995000e+05, 1.28821350e+07, 8.58837628e+01]])"
     },
     "metadata": {},
     "output_type": "execute_result",
     "execution_count": 60
    }
   ],
   "source": [
    "data.values"
   ],
   "metadata": {
    "collapsed": false,
    "pycharm": {
     "name": "#%%\n",
     "is_executing": false
    }
   }
  },
  {
   "cell_type": "code",
   "execution_count": 61,
   "outputs": [
    {
     "data": {
      "text/plain": "                   CA            TX            NY            FL            IL\narea     4.239700e+04  6.956620e+05  1.412970e+05  1.703120e+05  1.499950e+05\npop      3.833252e+07  2.644819e+07  1.965113e+07  1.955286e+07  1.288214e+07\ndensity  9.041329e+02  3.801874e+01  1.390767e+02  1.148061e+02  8.588376e+01",
      "text/html": "<div>\n<style scoped>\n    .dataframe tbody tr th:only-of-type {\n        vertical-align: middle;\n    }\n\n    .dataframe tbody tr th {\n        vertical-align: top;\n    }\n\n    .dataframe thead th {\n        text-align: right;\n    }\n</style>\n<table border=\"1\" class=\"dataframe\">\n  <thead>\n    <tr style=\"text-align: right;\">\n      <th></th>\n      <th>CA</th>\n      <th>TX</th>\n      <th>NY</th>\n      <th>FL</th>\n      <th>IL</th>\n    </tr>\n  </thead>\n  <tbody>\n    <tr>\n      <td>area</td>\n      <td>4.239700e+04</td>\n      <td>6.956620e+05</td>\n      <td>1.412970e+05</td>\n      <td>1.703120e+05</td>\n      <td>1.499950e+05</td>\n    </tr>\n    <tr>\n      <td>pop</td>\n      <td>3.833252e+07</td>\n      <td>2.644819e+07</td>\n      <td>1.965113e+07</td>\n      <td>1.955286e+07</td>\n      <td>1.288214e+07</td>\n    </tr>\n    <tr>\n      <td>density</td>\n      <td>9.041329e+02</td>\n      <td>3.801874e+01</td>\n      <td>1.390767e+02</td>\n      <td>1.148061e+02</td>\n      <td>8.588376e+01</td>\n    </tr>\n  </tbody>\n</table>\n</div>"
     },
     "metadata": {},
     "output_type": "execute_result",
     "execution_count": 61
    }
   ],
   "source": [
    "data.T"
   ],
   "metadata": {
    "collapsed": false,
    "pycharm": {
     "name": "#%%\n",
     "is_executing": false
    }
   }
  },
  {
   "cell_type": "code",
   "execution_count": 62,
   "outputs": [
    {
     "name": "stdout",
     "text": [
      "[4.23970000e+04 3.83325210e+07 9.04132863e+02]\nCA     42397\nTX    695662\nNY    141297\nFL    170312\nIL    149995\nName: area, dtype: int64\n"
     ],
     "output_type": "stream"
    }
   ],
   "source": [
    "print(data.values[0])\n",
    "print(data['area'])"
   ],
   "metadata": {
    "collapsed": false,
    "pycharm": {
     "name": "#%%\n",
     "is_executing": false
    }
   }
  },
  {
   "cell_type": "code",
   "execution_count": 63,
   "outputs": [
    {
     "name": "stdout",
     "text": [
      "      area       pop\nCA   42397  38332521\nTX  695662  26448193\nNY  141297  19651127\n      area       pop\nCA   42397  38332521\nTX  695662  26448193\nNY  141297  19651127\n"
     ],
     "output_type": "stream"
    }
   ],
   "source": [
    "print(data.iloc[:3,:2])\n",
    "print(data.loc[:'NY',:'pop'])"
   ],
   "metadata": {
    "collapsed": false,
    "pycharm": {
     "name": "#%%\n",
     "is_executing": false
    }
   }
  },
  {
   "cell_type": "code",
   "execution_count": 64,
   "outputs": [
    {
     "data": {
      "text/plain": "         pop     density\nCA  38332521  904.132863\nNY  19651127  139.076746\nFL  19552860  114.806121",
      "text/html": "<div>\n<style scoped>\n    .dataframe tbody tr th:only-of-type {\n        vertical-align: middle;\n    }\n\n    .dataframe tbody tr th {\n        vertical-align: top;\n    }\n\n    .dataframe thead th {\n        text-align: right;\n    }\n</style>\n<table border=\"1\" class=\"dataframe\">\n  <thead>\n    <tr style=\"text-align: right;\">\n      <th></th>\n      <th>pop</th>\n      <th>density</th>\n    </tr>\n  </thead>\n  <tbody>\n    <tr>\n      <td>CA</td>\n      <td>38332521</td>\n      <td>904.132863</td>\n    </tr>\n    <tr>\n      <td>NY</td>\n      <td>19651127</td>\n      <td>139.076746</td>\n    </tr>\n    <tr>\n      <td>FL</td>\n      <td>19552860</td>\n      <td>114.806121</td>\n    </tr>\n  </tbody>\n</table>\n</div>"
     },
     "metadata": {},
     "output_type": "execute_result",
     "execution_count": 64
    }
   ],
   "source": [
    "data.loc[data.density>100,['pop','density']]"
   ],
   "metadata": {
    "collapsed": false,
    "pycharm": {
     "name": "#%%\n",
     "is_executing": false
    }
   }
  },
  {
   "cell_type": "code",
   "execution_count": 65,
   "outputs": [
    {
     "name": "stdout",
     "text": [
      "      area       pop     density\nCA   42397  38332521  904.132863\nTX  695662  26448193   38.018740\nNY  141297  19651127  139.076746\nFL  170312  19552860  114.806121\nIL  149995  12882135   85.883763\n      area       pop     density\nCA   42397  49887700  904.132863\nTX  695662  26448193   38.018740\nNY  141297  19651127  139.076746\nFL  170312  19552860  114.806121\nIL  149995  12882135   85.883763\n"
     ],
     "output_type": "stream"
    }
   ],
   "source": [
    "print(data)\n",
    "data.loc[['CA'],['pop']]=49887700\n",
    "print(data)"
   ],
   "metadata": {
    "collapsed": false,
    "pycharm": {
     "name": "#%%\n",
     "is_executing": false
    }
   }
  },
  {
   "cell_type": "code",
   "execution_count": 69,
   "outputs": [
    {
     "name": "stdout",
     "text": [
      "      area       pop     density\nFL  170312  19552860  114.806121\nIL  149995  12882135   85.883763\n      area       pop     density\nFL  170312  19552860  114.806121\nIL  149995  12882135   85.883763\n"
     ],
     "output_type": "stream"
    },
    {
     "data": {
      "text/plain": "      area       pop     density\nCA   42397  49887700  904.132863\nNY  141297  19651127  139.076746\nFL  170312  19552860  114.806121",
      "text/html": "<div>\n<style scoped>\n    .dataframe tbody tr th:only-of-type {\n        vertical-align: middle;\n    }\n\n    .dataframe tbody tr th {\n        vertical-align: top;\n    }\n\n    .dataframe thead th {\n        text-align: right;\n    }\n</style>\n<table border=\"1\" class=\"dataframe\">\n  <thead>\n    <tr style=\"text-align: right;\">\n      <th></th>\n      <th>area</th>\n      <th>pop</th>\n      <th>density</th>\n    </tr>\n  </thead>\n  <tbody>\n    <tr>\n      <td>CA</td>\n      <td>42397</td>\n      <td>49887700</td>\n      <td>904.132863</td>\n    </tr>\n    <tr>\n      <td>NY</td>\n      <td>141297</td>\n      <td>19651127</td>\n      <td>139.076746</td>\n    </tr>\n    <tr>\n      <td>FL</td>\n      <td>170312</td>\n      <td>19552860</td>\n      <td>114.806121</td>\n    </tr>\n  </tbody>\n</table>\n</div>"
     },
     "metadata": {},
     "output_type": "execute_result",
     "execution_count": 69
    }
   ],
   "source": [
    "print(data['FL':'IL'])\n",
    "print(data[3:5])\n",
    "data[data.density>100]\n",
    "\n"
   ],
   "metadata": {
    "collapsed": false,
    "pycharm": {
     "name": "#%%\n",
     "is_executing": false
    }
   }
  }
 ],
 "metadata": {
  "kernelspec": {
   "display_name": "Python 3",
   "language": "python",
   "name": "python3"
  },
  "language_info": {
   "codemirror_mode": {
    "name": "ipython",
    "version": 2
   },
   "file_extension": ".py",
   "mimetype": "text/x-python",
   "name": "python",
   "nbconvert_exporter": "python",
   "pygments_lexer": "ipython2",
   "version": "2.7.6"
  },
  "pycharm": {
   "stem_cell": {
    "cell_type": "raw",
    "source": [],
    "metadata": {
     "collapsed": false
    }
   }
  }
 },
 "nbformat": 4,
 "nbformat_minor": 0
}