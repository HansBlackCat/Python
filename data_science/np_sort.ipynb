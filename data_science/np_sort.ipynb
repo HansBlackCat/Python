{
 "cells": [
  {
   "cell_type": "code",
   "execution_count": 1,
   "metadata": {
    "collapsed": true,
    "pycharm": {
     "is_executing": false
    }
   },
   "outputs": [
    {
     "data": {
      "text/plain": "array([1, 2, 3, 4, 5, 6])"
     },
     "metadata": {},
     "output_type": "execute_result",
     "execution_count": 1
    }
   ],
   "source": [
    "import numpy as np\n",
    "x=np.array([2,1,5,4,6,3])\n",
    "np.sort(x)"
   ]
  },
  {
   "cell_type": "code",
   "execution_count": 4,
   "outputs": [
    {
     "data": {
      "text/plain": "array([1, 0, 5, 3, 2, 4], dtype=int64)"
     },
     "metadata": {},
     "output_type": "execute_result",
     "execution_count": 4
    }
   ],
   "source": [
    "i=np.argsort(x)\n",
    "i"
   ],
   "metadata": {
    "collapsed": false,
    "pycharm": {
     "name": "#%%\n",
     "is_executing": false
    }
   }
  },
  {
   "cell_type": "code",
   "execution_count": 5,
   "outputs": [
    {
     "data": {
      "text/plain": "array([[6, 3, 7, 4, 6, 9],\n       [2, 6, 7, 4, 3, 7],\n       [7, 2, 5, 4, 1, 7],\n       [5, 1, 4, 0, 9, 5]])"
     },
     "metadata": {},
     "output_type": "execute_result",
     "execution_count": 5
    }
   ],
   "source": [
    "rand=np.random.RandomState(42)\n",
    "X=rand.randint(0,10,(4,6))\n",
    "X"
   ],
   "metadata": {
    "collapsed": false,
    "pycharm": {
     "name": "#%%\n",
     "is_executing": false
    }
   }
  },
  {
   "cell_type": "code",
   "execution_count": 7,
   "outputs": [
    {
     "name": "stdout",
     "text": [
      "[[2 1 4 0 1 5]\n [5 2 5 4 3 7]\n [6 3 7 4 6 7]\n [7 6 7 4 9 9]]\n[[3 4 6 6 7 9]\n [2 3 4 6 7 7]\n [1 2 4 5 7 7]\n [0 1 4 5 5 9]]\n[[3 4 6 6 7 9]\n [2 3 4 6 7 7]\n [1 2 4 5 7 7]\n [0 1 4 5 5 9]]\n"
     ],
     "output_type": "stream"
    }
   ],
   "source": [
    "print(np.sort(X,axis=0))\n",
    "print(np.sort(X,axis=1))\n",
    "print(np.sort(X))"
   ],
   "metadata": {
    "collapsed": false,
    "pycharm": {
     "name": "#%%\n",
     "is_executing": false
    }
   }
  },
  {
   "cell_type": "code",
   "execution_count": 10,
   "outputs": [
    {
     "data": {
      "text/plain": "array([ 3,  1,  4,  6,  9, 20, 11])"
     },
     "metadata": {},
     "output_type": "execute_result",
     "execution_count": 10
    }
   ],
   "source": [
    "x=np.array([9,11,3,1,6,20,4])\n",
    "np.partition(x,3)\n"
   ],
   "metadata": {
    "collapsed": false,
    "pycharm": {
     "name": "#%%\n",
     "is_executing": false
    }
   }
  }
 ],
 "metadata": {
  "kernelspec": {
   "display_name": "Python 3",
   "language": "python",
   "name": "python3"
  },
  "language_info": {
   "codemirror_mode": {
    "name": "ipython",
    "version": 2
   },
   "file_extension": ".py",
   "mimetype": "text/x-python",
   "name": "python",
   "nbconvert_exporter": "python",
   "pygments_lexer": "ipython2",
   "version": "2.7.6"
  },
  "pycharm": {
   "stem_cell": {
    "cell_type": "raw",
    "source": [],
    "metadata": {
     "collapsed": false
    }
   }
  }
 },
 "nbformat": 4,
 "nbformat_minor": 0
}