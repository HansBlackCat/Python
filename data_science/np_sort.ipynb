{
 "cells": [
  {
   "cell_type": "code",
   "execution_count": 1,
   "metadata": {
    "collapsed": true,
    "pycharm": {
     "is_executing": false
    }
   },
   "outputs": [
    {
     "data": {
      "text/plain": "array([1, 2, 3, 4, 5, 6])"
     },
     "metadata": {},
     "output_type": "execute_result",
     "execution_count": 1
    }
   ],
   "source": [
    "import numpy as np\n",
    "x=np.array([2,1,5,4,6,3])\n",
    "np.sort(x)"
   ]
  },
  {
   "cell_type": "code",
   "execution_count": 2,
   "outputs": [
    {
     "data": {
      "text/plain": "array([1, 0, 5, 3, 2, 4], dtype=int64)"
     },
     "metadata": {},
     "output_type": "execute_result",
     "execution_count": 2
    }
   ],
   "source": [
    "i=np.argsort(x)\n",
    "i"
   ],
   "metadata": {
    "collapsed": false,
    "pycharm": {
     "name": "#%%\n",
     "is_executing": false
    }
   }
  },
  {
   "cell_type": "code",
   "execution_count": 15,
   "outputs": [
    {
     "name": "stdout",
     "text": [
      "[35 29 26 24]\n"
     ],
     "output_type": "stream"
    },
    {
     "data": {
      "text/plain": "array([[6, 3, 7, 4, 6, 9],\n       [2, 6, 7, 4, 3, 7],\n       [7, 2, 5, 4, 1, 7],\n       [5, 1, 4, 0, 9, 5]])"
     },
     "metadata": {},
     "output_type": "execute_result",
     "execution_count": 15
    }
   ],
   "source": [
    "rand=np.random.RandomState(42)\n",
    "X=rand.randint(0,10,(4,6))\n",
    "X"
   ],
   "metadata": {
    "collapsed": false,
    "pycharm": {
     "name": "#%%\n",
     "is_executing": false
    }
   }
  },
  {
   "cell_type": "code",
   "execution_count": 4,
   "outputs": [
    {
     "name": "stdout",
     "text": [
      "[[2 1 4 0 1 5]\n [5 2 5 4 3 7]\n [6 3 7 4 6 7]\n [7 6 7 4 9 9]]\n[[3 4 6 6 7 9]\n [2 3 4 6 7 7]\n [1 2 4 5 7 7]\n [0 1 4 5 5 9]]\n[[3 4 6 6 7 9]\n [2 3 4 6 7 7]\n [1 2 4 5 7 7]\n [0 1 4 5 5 9]]\n"
     ],
     "output_type": "stream"
    }
   ],
   "source": [
    "print(np.sort(X,axis=0))\n",
    "print(np.sort(X,axis=1))\n",
    "print(np.sort(X))"
   ],
   "metadata": {
    "collapsed": false,
    "pycharm": {
     "name": "#%%\n",
     "is_executing": false
    }
   }
  },
  {
   "cell_type": "code",
   "execution_count": 5,
   "outputs": [
    {
     "data": {
      "text/plain": "array([ 3,  1,  4,  6,  9, 20, 11])"
     },
     "metadata": {},
     "output_type": "execute_result",
     "execution_count": 5
    }
   ],
   "source": [
    "x=np.array([9,11,3,1,6,20,4])\n",
    "np.partition(x,3)"
   ],
   "metadata": {
    "collapsed": false,
    "pycharm": {
     "name": "#%%\n",
     "is_executing": false
    }
   }
  },
  {
   "cell_type": "code",
   "execution_count": 7,
   "outputs": [
    {
     "name": "stdout",
     "text": [
      "[[3 4 6 6 7 9]\n [2 3 4 6 7 7]\n [2 1 4 5 7 7]\n [0 4 1 5 9 5]]\n[[2 2 5 0 1 5]\n [5 1 4 4 3 7]\n [6 3 7 4 6 7]\n [7 6 7 4 9 9]]\n"
     ],
     "output_type": "stream"
    }
   ],
   "source": [
    "print(np.partition(X,3,axis=1))\n",
    "print(np.partition(X,3,axis=0))"
   ],
   "metadata": {
    "collapsed": false,
    "pycharm": {
     "name": "#%%\n",
     "is_executing": false
    }
   }
  },
  {
   "cell_type": "code",
   "execution_count": 19,
   "outputs": [
    {
     "data": {
      "text/plain": "<Figure size 432x288 with 1 Axes>",
      "image/png": "[encoded data removed]"
     },
     "metadata": {},
     "output_type": "display_data"
    }
   ],
   "source": [
    "X=rand.rand(10,2)\n",
    "%matplotlib inline\n",
    "import matplotlib.pyplot as plt\n",
    "import seaborn; seaborn.set()\n",
    "plt.scatter(X[:,0],X[:,1],s=100);"
   ],
   "metadata": {
    "collapsed": false,
    "pycharm": {
     "name": "#%%\n",
     "is_executing": false
    }
   }
  },
  {
   "cell_type": "code",
   "execution_count": 50,
   "outputs": [
    {
     "name": "stdout",
     "text": [
      "[[0.23089383 0.24102547]\n [0.68326352 0.60999666]\n [0.83319491 0.17336465]\n [0.39106061 0.18223609]\n [0.75536141 0.42515587]\n [0.20794166 0.56770033]\n [0.03131329 0.84228477]\n [0.44975413 0.39515024]\n [0.92665887 0.727272  ]\n [0.32654077 0.57044397]]\n"
     ],
     "output_type": "stream"
    },
    {
     "data": {
      "text/plain": "array([[0, 3, 7, 5, 9, 4, 1, 2, 6, 8],\n       [1, 4, 8, 7, 9, 2, 5, 3, 0, 6],\n       [2, 4, 3, 7, 1, 8, 0, 9, 5, 6],\n       [3, 0, 7, 9, 5, 4, 2, 1, 6, 8],\n       [4, 1, 2, 7, 8, 3, 9, 0, 5, 6],\n       [5, 9, 7, 6, 0, 3, 1, 4, 8, 2],\n       [6, 5, 9, 7, 0, 1, 3, 4, 8, 2],\n       [7, 9, 3, 0, 5, 4, 1, 2, 8, 6],\n       [8, 1, 4, 2, 7, 9, 5, 3, 0, 6],\n       [9, 5, 7, 0, 1, 3, 6, 4, 8, 2]], dtype=int64)"
     },
     "metadata": {},
     "output_type": "execute_result",
     "execution_count": 50
    }
   ],
   "source": [
    "print(X)\n",
    "diff=X[:,np.newaxis,:]-X[np.newaxis,:,:]\n",
    "sq_diff=diff**2\n",
    "dist_sq=sq_diff.sum(-1)\n",
    "nearest=np.argsort(dist_sq,axis=1)\n",
    "nearest"
   ],
   "metadata": {
    "collapsed": false,
    "pycharm": {
     "name": "#%%\n",
     "is_executing": false
    }
   }
  },
  {
   "cell_type": "code",
   "execution_count": 51,
   "outputs": [
    {
     "data": {
      "text/plain": "array([[0, 3, 7, 5, 9, 1, 6, 2, 8, 4],\n       [1, 4, 8, 7, 9, 5, 6, 3, 2, 0],\n       [3, 2, 4, 7, 1, 8, 0, 6, 5, 9],\n       [3, 0, 7, 9, 1, 5, 6, 2, 8, 4],\n       [1, 2, 4, 7, 3, 8, 9, 6, 5, 0],\n       [5, 9, 7, 6, 0, 1, 3, 2, 8, 4],\n       [6, 5, 9, 7, 0, 1, 3, 2, 8, 4],\n       [3, 9, 7, 0, 1, 5, 6, 2, 8, 4],\n       [8, 1, 4, 2, 7, 9, 6, 5, 3, 0],\n       [5, 9, 7, 0, 1, 3, 6, 2, 8, 4]], dtype=int64)"
     },
     "metadata": {},
     "output_type": "execute_result",
     "execution_count": 51
    }
   ],
   "source": [
    "K=2\n",
    "nearest_par=np.argpartition(dist_sq,K+1,axis=1)\n",
    "nearest_par"
   ],
   "metadata": {
    "collapsed": false,
    "pycharm": {
     "name": "#%%\n",
     "is_executing": false
    }
   }
  },
  {
   "cell_type": "code",
   "execution_count": 52,
   "outputs": [
    {
     "name": "stdout",
     "text": [
      "[(0.6832635188254582, 0.9266588657937942), (0.6099966577826209, 0.7272719958564209)]\n"
     ],
     "output_type": "stream"
    },
    {
     "data": {
      "text/plain": "<Figure size 432x288 with 1 Axes>",
      "image/png": "[encoded data removed]"
     },
     "metadata": {},
     "output_type": "display_data"
    }
   ],
   "source": [
    "plt.scatter(X[:,0],X[:,1],s=100)\n",
    "K=2\n",
    "for i in range(10):\n",
    "    for j in nearest_par[i,:K+1]:\n",
    "        plt.plot(*zip(X[i],X[j]),color='black')\n"
   ],
   "metadata": {
    "collapsed": false,
    "pycharm": {
     "name": "#%%\n",
     "is_executing": false
    }
   }
  }
 ],
 "metadata": {
  "kernelspec": {
   "display_name": "Python 3",
   "language": "python",
   "name": "python3"
  },
  "language_info": {
   "codemirror_mode": {
    "name": "ipython",
    "version": 2
   },
   "file_extension": ".py",
   "mimetype": "text/x-python",
   "name": "python",
   "nbconvert_exporter": "python",
   "pygments_lexer": "ipython2",
   "version": "2.7.6"
  },
  "pycharm": {
   "stem_cell": {
    "cell_type": "raw",
    "source": [],
    "metadata": {
     "collapsed": false
    }
   }
  }
 },
 "nbformat": 4,
 "nbformat_minor": 0
}