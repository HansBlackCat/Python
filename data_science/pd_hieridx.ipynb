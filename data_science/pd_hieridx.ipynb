{
 "cells": [
  {
   "cell_type": "code",
   "execution_count": 2,
   "metadata": {
    "collapsed": true,
    "pycharm": {
     "is_executing": false
    }
   },
   "outputs": [],
   "source": [
    "import numpy as np\n",
    "import pandas as pd"
   ]
  },
  {
   "cell_type": "code",
   "execution_count": 3,
   "outputs": [
    {
     "data": {
      "text/plain": "(CL, 2000)    338\n(CL, 2010)    372\n(NY, 2000)    189\n(NY, 2010)    193\n(TX, 2000)    208\n(TX, 2010)    251\ndtype: int64"
     },
     "metadata": {},
     "output_type": "execute_result",
     "execution_count": 3
    }
   ],
   "source": [
    "index=[('CL',2000),('CL',2010),('NY',2000),\n",
    "       ('NY',2010),('TX',2000),('TX',2010)]\n",
    "pop=[338,372,189,193,208,251]\n",
    "pop_S=pd.Series(pop,index=index)\n",
    "pop_S"
   ],
   "metadata": {
    "collapsed": false,
    "pycharm": {
     "name": "#%%\n",
     "is_executing": false
    }
   }
  },
  {
   "cell_type": "code",
   "execution_count": 4,
   "outputs": [
    {
     "data": {
      "text/plain": "MultiIndex([('CL', 2000),\n            ('CL', 2010),\n            ('NY', 2000),\n            ('NY', 2010),\n            ('TX', 2000),\n            ('TX', 2010)],\n           )"
     },
     "metadata": {},
     "output_type": "execute_result",
     "execution_count": 4
    }
   ],
   "source": [
    "index=pd.MultiIndex.from_tuples(index)\n",
    "index"
   ],
   "metadata": {
    "collapsed": false,
    "pycharm": {
     "name": "#%%\n",
     "is_executing": false
    }
   }
  },
  {
   "cell_type": "code",
   "execution_count": 5,
   "outputs": [
    {
     "data": {
      "text/plain": "CL  2000    338\n    2010    372\nNY  2000    189\n    2010    193\nTX  2000    208\n    2010    251\ndtype: int64"
     },
     "metadata": {},
     "output_type": "execute_result",
     "execution_count": 5
    }
   ],
   "source": [
    "pop_S=pop_S.reindex(index)\n",
    "pop_S"
   ],
   "metadata": {
    "collapsed": false,
    "pycharm": {
     "name": "#%%\n",
     "is_executing": false
    }
   }
  },
  {
   "cell_type": "code",
   "execution_count": 6,
   "outputs": [
    {
     "data": {
      "text/plain": "CL    372\nNY    193\nTX    251\ndtype: int64"
     },
     "metadata": {},
     "output_type": "execute_result",
     "execution_count": 6
    }
   ],
   "source": [
    "pop_S[:,2010]"
   ],
   "metadata": {
    "collapsed": false,
    "pycharm": {
     "name": "#%%\n",
     "is_executing": false
    }
   }
  },
  {
   "cell_type": "code",
   "execution_count": 7,
   "outputs": [
    {
     "data": {
      "text/plain": "    2000  2010\nCL   338   372\nNY   189   193\nTX   208   251",
      "text/html": "<div>\n<style scoped>\n    .dataframe tbody tr th:only-of-type {\n        vertical-align: middle;\n    }\n\n    .dataframe tbody tr th {\n        vertical-align: top;\n    }\n\n    .dataframe thead th {\n        text-align: right;\n    }\n</style>\n<table border=\"1\" class=\"dataframe\">\n  <thead>\n    <tr style=\"text-align: right;\">\n      <th></th>\n      <th>2000</th>\n      <th>2010</th>\n    </tr>\n  </thead>\n  <tbody>\n    <tr>\n      <td>CL</td>\n      <td>338</td>\n      <td>372</td>\n    </tr>\n    <tr>\n      <td>NY</td>\n      <td>189</td>\n      <td>193</td>\n    </tr>\n    <tr>\n      <td>TX</td>\n      <td>208</td>\n      <td>251</td>\n    </tr>\n  </tbody>\n</table>\n</div>"
     },
     "metadata": {},
     "output_type": "execute_result",
     "execution_count": 7
    }
   ],
   "source": [
    "pop_df=pop_S.unstack()\n",
    "pop_df"
   ],
   "metadata": {
    "collapsed": false,
    "pycharm": {
     "name": "#%%\n",
     "is_executing": false
    }
   }
  },
  {
   "cell_type": "code",
   "execution_count": 8,
   "outputs": [
    {
     "data": {
      "text/plain": "CL  2000    338\n    2010    372\nNY  2000    189\n    2010    193\nTX  2000    208\n    2010    251\ndtype: int64"
     },
     "metadata": {},
     "output_type": "execute_result",
     "execution_count": 8
    }
   ],
   "source": [
    "pop_df.stack()"
   ],
   "metadata": {
    "collapsed": false,
    "pycharm": {
     "name": "#%%\n",
     "is_executing": false
    }
   }
  },
  {
   "cell_type": "code",
   "execution_count": 9,
   "outputs": [
    {
     "data": {
      "text/plain": "         total  under 18\nCL 2000    338      9267\n   2010    372      9284\nNY 2000    189      4687\n   2010    193      4318\nTX 2000    208      5906\n   2010    251      6879",
      "text/html": "<div>\n<style scoped>\n    .dataframe tbody tr th:only-of-type {\n        vertical-align: middle;\n    }\n\n    .dataframe tbody tr th {\n        vertical-align: top;\n    }\n\n    .dataframe thead th {\n        text-align: right;\n    }\n</style>\n<table border=\"1\" class=\"dataframe\">\n  <thead>\n    <tr style=\"text-align: right;\">\n      <th></th>\n      <th></th>\n      <th>total</th>\n      <th>under 18</th>\n    </tr>\n  </thead>\n  <tbody>\n    <tr>\n      <td rowspan=\"2\" valign=\"top\">CL</td>\n      <td>2000</td>\n      <td>338</td>\n      <td>9267</td>\n    </tr>\n    <tr>\n      <td>2010</td>\n      <td>372</td>\n      <td>9284</td>\n    </tr>\n    <tr>\n      <td rowspan=\"2\" valign=\"top\">NY</td>\n      <td>2000</td>\n      <td>189</td>\n      <td>4687</td>\n    </tr>\n    <tr>\n      <td>2010</td>\n      <td>193</td>\n      <td>4318</td>\n    </tr>\n    <tr>\n      <td rowspan=\"2\" valign=\"top\">TX</td>\n      <td>2000</td>\n      <td>208</td>\n      <td>5906</td>\n    </tr>\n    <tr>\n      <td>2010</td>\n      <td>251</td>\n      <td>6879</td>\n    </tr>\n  </tbody>\n</table>\n</div>"
     },
     "metadata": {},
     "output_type": "execute_result",
     "execution_count": 9
    }
   ],
   "source": [
    "pop_df=pd.DataFrame({'total':pop_S,'under 18':[9267,9284,4687,4318,5906,6879]})\n",
    "pop_df"
   ],
   "metadata": {
    "collapsed": false,
    "pycharm": {
     "name": "#%%\n",
     "is_executing": false
    }
   }
  },
  {
   "cell_type": "code",
   "execution_count": 11,
   "outputs": [
    {
     "data": {
      "text/plain": "         2000       2010\nCL  27.417160  24.956989\nNY  24.798942  22.373057\nTX  28.394231  27.406375",
      "text/html": "<div>\n<style scoped>\n    .dataframe tbody tr th:only-of-type {\n        vertical-align: middle;\n    }\n\n    .dataframe tbody tr th {\n        vertical-align: top;\n    }\n\n    .dataframe thead th {\n        text-align: right;\n    }\n</style>\n<table border=\"1\" class=\"dataframe\">\n  <thead>\n    <tr style=\"text-align: right;\">\n      <th></th>\n      <th>2000</th>\n      <th>2010</th>\n    </tr>\n  </thead>\n  <tbody>\n    <tr>\n      <td>CL</td>\n      <td>27.417160</td>\n      <td>24.956989</td>\n    </tr>\n    <tr>\n      <td>NY</td>\n      <td>24.798942</td>\n      <td>22.373057</td>\n    </tr>\n    <tr>\n      <td>TX</td>\n      <td>28.394231</td>\n      <td>27.406375</td>\n    </tr>\n  </tbody>\n</table>\n</div>"
     },
     "metadata": {},
     "output_type": "execute_result",
     "execution_count": 11
    }
   ],
   "source": [
    "f_u18=pop_df['under 18']/pop_df['total']\n",
    "f_u18.unstack()"
   ],
   "metadata": {
    "collapsed": false,
    "pycharm": {
     "name": "#%%\n",
     "is_executing": false
    }
   }
  },
  {
   "cell_type": "code",
   "execution_count": 12,
   "outputs": [
    {
     "data": {
      "text/plain": "        data1     data2\na 1  0.452573  0.568668\n  2  0.230726  0.113107\nb 1  0.711337  0.534846\n  2  0.334955  0.224000",
      "text/html": "<div>\n<style scoped>\n    .dataframe tbody tr th:only-of-type {\n        vertical-align: middle;\n    }\n\n    .dataframe tbody tr th {\n        vertical-align: top;\n    }\n\n    .dataframe thead th {\n        text-align: right;\n    }\n</style>\n<table border=\"1\" class=\"dataframe\">\n  <thead>\n    <tr style=\"text-align: right;\">\n      <th></th>\n      <th></th>\n      <th>data1</th>\n      <th>data2</th>\n    </tr>\n  </thead>\n  <tbody>\n    <tr>\n      <td rowspan=\"2\" valign=\"top\">a</td>\n      <td>1</td>\n      <td>0.452573</td>\n      <td>0.568668</td>\n    </tr>\n    <tr>\n      <td>2</td>\n      <td>0.230726</td>\n      <td>0.113107</td>\n    </tr>\n    <tr>\n      <td rowspan=\"2\" valign=\"top\">b</td>\n      <td>1</td>\n      <td>0.711337</td>\n      <td>0.534846</td>\n    </tr>\n    <tr>\n      <td>2</td>\n      <td>0.334955</td>\n      <td>0.224000</td>\n    </tr>\n  </tbody>\n</table>\n</div>"
     },
     "metadata": {},
     "output_type": "execute_result",
     "execution_count": 12
    }
   ],
   "source": [
    "df=pd.DataFrame(np.random.rand(4,2),\n",
    "                index=[['a','a','b','b'],[1,2,1,2,]],\n",
    "                columns=['data1','data2'])\n",
    "df"
   ],
   "metadata": {
    "collapsed": false,
    "pycharm": {
     "name": "#%%\n",
     "is_executing": false
    }
   }
  },
  {
   "cell_type": "code",
   "execution_count": 14,
   "outputs": [
    {
     "data": {
      "text/plain": "CL  2000    338\n    2010    372\nTX  2000    372\n    2010    251\nNY  2000    189\n    2010    193\ndtype: int64"
     },
     "metadata": {},
     "output_type": "execute_result",
     "execution_count": 14
    }
   ],
   "source": [
    "data={('CL',2000):338,('CL',2010):372,\n",
    "      ('TX',2000):372,('TX',2010):251,\n",
    "      ('NY',2000):189,('NY',2010):193}\n",
    "pd.Series(data)"
   ],
   "metadata": {
    "collapsed": false,
    "pycharm": {
     "name": "#%%\n",
     "is_executing": false
    }
   }
  },
  {
   "cell_type": "code",
   "execution_count": 15,
   "outputs": [
    {
     "data": {
      "text/plain": "MultiIndex([('a', 1),\n            ('a', 2),\n            ('b', 1),\n            ('b', 2)],\n           )"
     },
     "metadata": {},
     "output_type": "execute_result",
     "execution_count": 15
    }
   ],
   "source": [
    "pd.MultiIndex.from_product([['a','b'],[1,2]])"
   ],
   "metadata": {
    "collapsed": false,
    "pycharm": {
     "name": "#%%\n",
     "is_executing": false
    }
   }
  },
  {
   "cell_type": "code",
   "execution_count": 18,
   "outputs": [
    {
     "data": {
      "text/plain": "state  year\nCL     2000    338\n       2010    372\nNY     2000    189\n       2010    193\nTX     2000    208\n       2010    251\ndtype: int64"
     },
     "metadata": {},
     "output_type": "execute_result",
     "execution_count": 18
    }
   ],
   "source": [
    "pop_S.index.names=['state','year']\n",
    "pop_S"
   ],
   "metadata": {
    "collapsed": false,
    "pycharm": {
     "name": "#%%\n",
     "is_executing": false
    }
   }
  },
  {
   "cell_type": "code",
   "execution_count": null,
   "outputs": [],
   "source": [
    "\n"
   ],
   "metadata": {
    "collapsed": false,
    "pycharm": {
     "name": "#%%\n"
    }
   }
  }
 ],
 "metadata": {
  "kernelspec": {
   "display_name": "Python 3",
   "language": "python",
   "name": "python3"
  },
  "language_info": {
   "codemirror_mode": {
    "name": "ipython",
    "version": 2
   },
   "file_extension": ".py",
   "mimetype": "text/x-python",
   "name": "python",
   "nbconvert_exporter": "python",
   "pygments_lexer": "ipython2",
   "version": "2.7.6"
  },
  "pycharm": {
   "stem_cell": {
    "cell_type": "raw",
    "source": [],
    "metadata": {
     "collapsed": false
    }
   }
  }
 },
 "nbformat": 4,
 "nbformat_minor": 0
}