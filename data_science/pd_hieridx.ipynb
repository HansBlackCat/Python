{
 "cells": [
  {
   "cell_type": "code",
   "execution_count": 1,
   "metadata": {
    "collapsed": true,
    "pycharm": {
     "is_executing": false
    }
   },
   "outputs": [],
   "source": [
    "import numpy as np\n",
    "import pandas as pd"
   ]
  },
  {
   "cell_type": "code",
   "execution_count": 2,
   "outputs": [
    {
     "data": {
      "text/plain": "(CL, 2000)    338\n(CL, 2010)    372\n(NY, 2000)    189\n(NY, 2010)    193\n(TX, 2000)    208\n(TX, 2010)    251\ndtype: int64"
     },
     "metadata": {},
     "output_type": "execute_result",
     "execution_count": 2
    }
   ],
   "source": [
    "index=[('CL',2000),('CL',2010),('NY',2000),\n",
    "       ('NY',2010),('TX',2000),('TX',2010)]\n",
    "pop=[338,372,189,193,208,251]\n",
    "pop_S=pd.Series(pop,index=index)\n",
    "pop_S"
   ],
   "metadata": {
    "collapsed": false,
    "pycharm": {
     "name": "#%%\n",
     "is_executing": false
    }
   }
  },
  {
   "cell_type": "code",
   "execution_count": 3,
   "outputs": [
    {
     "data": {
      "text/plain": "MultiIndex([('CL', 2000),\n            ('CL', 2010),\n            ('NY', 2000),\n            ('NY', 2010),\n            ('TX', 2000),\n            ('TX', 2010)],\n           )"
     },
     "metadata": {},
     "output_type": "execute_result",
     "execution_count": 3
    }
   ],
   "source": [
    "index=pd.MultiIndex.from_tuples(index)\n",
    "index"
   ],
   "metadata": {
    "collapsed": false,
    "pycharm": {
     "name": "#%%\n",
     "is_executing": false
    }
   }
  },
  {
   "cell_type": "code",
   "execution_count": 4,
   "outputs": [
    {
     "data": {
      "text/plain": "CL  2000    338\n    2010    372\nNY  2000    189\n    2010    193\nTX  2000    208\n    2010    251\ndtype: int64"
     },
     "metadata": {},
     "output_type": "execute_result",
     "execution_count": 4
    }
   ],
   "source": [
    "pop_S=pop_S.reindex(index)\n",
    "pop_S"
   ],
   "metadata": {
    "collapsed": false,
    "pycharm": {
     "name": "#%%\n",
     "is_executing": false
    }
   }
  },
  {
   "cell_type": "code",
   "execution_count": 5,
   "outputs": [
    {
     "data": {
      "text/plain": "CL    372\nNY    193\nTX    251\ndtype: int64"
     },
     "metadata": {},
     "output_type": "execute_result",
     "execution_count": 5
    }
   ],
   "source": [
    "pop_S[:,2010]"
   ],
   "metadata": {
    "collapsed": false,
    "pycharm": {
     "name": "#%%\n",
     "is_executing": false
    }
   }
  },
  {
   "cell_type": "code",
   "execution_count": 6,
   "outputs": [
    {
     "data": {
      "text/plain": "    2000  2010\nCL   338   372\nNY   189   193\nTX   208   251",
      "text/html": "<div>\n<style scoped>\n    .dataframe tbody tr th:only-of-type {\n        vertical-align: middle;\n    }\n\n    .dataframe tbody tr th {\n        vertical-align: top;\n    }\n\n    .dataframe thead th {\n        text-align: right;\n    }\n</style>\n<table border=\"1\" class=\"dataframe\">\n  <thead>\n    <tr style=\"text-align: right;\">\n      <th></th>\n      <th>2000</th>\n      <th>2010</th>\n    </tr>\n  </thead>\n  <tbody>\n    <tr>\n      <td>CL</td>\n      <td>338</td>\n      <td>372</td>\n    </tr>\n    <tr>\n      <td>NY</td>\n      <td>189</td>\n      <td>193</td>\n    </tr>\n    <tr>\n      <td>TX</td>\n      <td>208</td>\n      <td>251</td>\n    </tr>\n  </tbody>\n</table>\n</div>"
     },
     "metadata": {},
     "output_type": "execute_result",
     "execution_count": 6
    }
   ],
   "source": [
    "pop_df=pop_S.unstack()\n",
    "pop_df"
   ],
   "metadata": {
    "collapsed": false,
    "pycharm": {
     "name": "#%%\n",
     "is_executing": false
    }
   }
  },
  {
   "cell_type": "code",
   "execution_count": 7,
   "outputs": [
    {
     "data": {
      "text/plain": "CL  2000    338\n    2010    372\nNY  2000    189\n    2010    193\nTX  2000    208\n    2010    251\ndtype: int64"
     },
     "metadata": {},
     "output_type": "execute_result",
     "execution_count": 7
    }
   ],
   "source": [
    "pop_df.stack()"
   ],
   "metadata": {
    "collapsed": false,
    "pycharm": {
     "name": "#%%\n",
     "is_executing": false
    }
   }
  },
  {
   "cell_type": "code",
   "execution_count": 8,
   "outputs": [
    {
     "data": {
      "text/plain": "         total  under 18\nCL 2000    338      9267\n   2010    372      9284\nNY 2000    189      4687\n   2010    193      4318\nTX 2000    208      5906\n   2010    251      6879",
      "text/html": "<div>\n<style scoped>\n    .dataframe tbody tr th:only-of-type {\n        vertical-align: middle;\n    }\n\n    .dataframe tbody tr th {\n        vertical-align: top;\n    }\n\n    .dataframe thead th {\n        text-align: right;\n    }\n</style>\n<table border=\"1\" class=\"dataframe\">\n  <thead>\n    <tr style=\"text-align: right;\">\n      <th></th>\n      <th></th>\n      <th>total</th>\n      <th>under 18</th>\n    </tr>\n  </thead>\n  <tbody>\n    <tr>\n      <td rowspan=\"2\" valign=\"top\">CL</td>\n      <td>2000</td>\n      <td>338</td>\n      <td>9267</td>\n    </tr>\n    <tr>\n      <td>2010</td>\n      <td>372</td>\n      <td>9284</td>\n    </tr>\n    <tr>\n      <td rowspan=\"2\" valign=\"top\">NY</td>\n      <td>2000</td>\n      <td>189</td>\n      <td>4687</td>\n    </tr>\n    <tr>\n      <td>2010</td>\n      <td>193</td>\n      <td>4318</td>\n    </tr>\n    <tr>\n      <td rowspan=\"2\" valign=\"top\">TX</td>\n      <td>2000</td>\n      <td>208</td>\n      <td>5906</td>\n    </tr>\n    <tr>\n      <td>2010</td>\n      <td>251</td>\n      <td>6879</td>\n    </tr>\n  </tbody>\n</table>\n</div>"
     },
     "metadata": {},
     "output_type": "execute_result",
     "execution_count": 8
    }
   ],
   "source": [
    "pop_df=pd.DataFrame({'total':pop_S,'under 18':[9267,9284,4687,4318,5906,6879]})\n",
    "pop_df"
   ],
   "metadata": {
    "collapsed": false,
    "pycharm": {
     "name": "#%%\n",
     "is_executing": false
    }
   }
  },
  {
   "cell_type": "code",
   "execution_count": 9,
   "outputs": [
    {
     "data": {
      "text/plain": "         2000       2010\nCL  27.417160  24.956989\nNY  24.798942  22.373057\nTX  28.394231  27.406375",
      "text/html": "<div>\n<style scoped>\n    .dataframe tbody tr th:only-of-type {\n        vertical-align: middle;\n    }\n\n    .dataframe tbody tr th {\n        vertical-align: top;\n    }\n\n    .dataframe thead th {\n        text-align: right;\n    }\n</style>\n<table border=\"1\" class=\"dataframe\">\n  <thead>\n    <tr style=\"text-align: right;\">\n      <th></th>\n      <th>2000</th>\n      <th>2010</th>\n    </tr>\n  </thead>\n  <tbody>\n    <tr>\n      <td>CL</td>\n      <td>27.417160</td>\n      <td>24.956989</td>\n    </tr>\n    <tr>\n      <td>NY</td>\n      <td>24.798942</td>\n      <td>22.373057</td>\n    </tr>\n    <tr>\n      <td>TX</td>\n      <td>28.394231</td>\n      <td>27.406375</td>\n    </tr>\n  </tbody>\n</table>\n</div>"
     },
     "metadata": {},
     "output_type": "execute_result",
     "execution_count": 9
    }
   ],
   "source": [
    "f_u18=pop_df['under 18']/pop_df['total']\n",
    "f_u18.unstack()"
   ],
   "metadata": {
    "collapsed": false,
    "pycharm": {
     "name": "#%%\n",
     "is_executing": false
    }
   }
  },
  {
   "cell_type": "code",
   "execution_count": 10,
   "outputs": [
    {
     "data": {
      "text/plain": "        data1     data2\na 1  0.485826  0.848079\n  2  0.030271  0.624371\nb 1  0.093913  0.013675\n  2  0.836403  0.606600",
      "text/html": "<div>\n<style scoped>\n    .dataframe tbody tr th:only-of-type {\n        vertical-align: middle;\n    }\n\n    .dataframe tbody tr th {\n        vertical-align: top;\n    }\n\n    .dataframe thead th {\n        text-align: right;\n    }\n</style>\n<table border=\"1\" class=\"dataframe\">\n  <thead>\n    <tr style=\"text-align: right;\">\n      <th></th>\n      <th></th>\n      <th>data1</th>\n      <th>data2</th>\n    </tr>\n  </thead>\n  <tbody>\n    <tr>\n      <td rowspan=\"2\" valign=\"top\">a</td>\n      <td>1</td>\n      <td>0.485826</td>\n      <td>0.848079</td>\n    </tr>\n    <tr>\n      <td>2</td>\n      <td>0.030271</td>\n      <td>0.624371</td>\n    </tr>\n    <tr>\n      <td rowspan=\"2\" valign=\"top\">b</td>\n      <td>1</td>\n      <td>0.093913</td>\n      <td>0.013675</td>\n    </tr>\n    <tr>\n      <td>2</td>\n      <td>0.836403</td>\n      <td>0.606600</td>\n    </tr>\n  </tbody>\n</table>\n</div>"
     },
     "metadata": {},
     "output_type": "execute_result",
     "execution_count": 10
    }
   ],
   "source": [
    "df=pd.DataFrame(np.random.rand(4,2),\n",
    "                index=[['a','a','b','b'],[1,2,1,2,]],\n",
    "                columns=['data1','data2'])\n",
    "df"
   ],
   "metadata": {
    "collapsed": false,
    "pycharm": {
     "name": "#%%\n",
     "is_executing": false
    }
   }
  },
  {
   "cell_type": "code",
   "execution_count": 11,
   "outputs": [
    {
     "data": {
      "text/plain": "CL  2000    338\n    2010    372\nTX  2000    372\n    2010    251\nNY  2000    189\n    2010    193\ndtype: int64"
     },
     "metadata": {},
     "output_type": "execute_result",
     "execution_count": 11
    }
   ],
   "source": [
    "data={('CL',2000):338,('CL',2010):372,\n",
    "      ('TX',2000):372,('TX',2010):251,\n",
    "      ('NY',2000):189,('NY',2010):193}\n",
    "pd.Series(data)"
   ],
   "metadata": {
    "collapsed": false,
    "pycharm": {
     "name": "#%%\n",
     "is_executing": false
    }
   }
  },
  {
   "cell_type": "code",
   "execution_count": 12,
   "outputs": [
    {
     "data": {
      "text/plain": "MultiIndex([('a', 1),\n            ('a', 2),\n            ('b', 1),\n            ('b', 2)],\n           )"
     },
     "metadata": {},
     "output_type": "execute_result",
     "execution_count": 12
    }
   ],
   "source": [
    "pd.MultiIndex.from_product([['a','b'],[1,2]])"
   ],
   "metadata": {
    "collapsed": false,
    "pycharm": {
     "name": "#%%\n",
     "is_executing": false
    }
   }
  },
  {
   "cell_type": "code",
   "execution_count": 13,
   "outputs": [
    {
     "data": {
      "text/plain": "state  year\nCL     2000    338\n       2010    372\nNY     2000    189\n       2010    193\nTX     2000    208\n       2010    251\ndtype: int64"
     },
     "metadata": {},
     "output_type": "execute_result",
     "execution_count": 13
    }
   ],
   "source": [
    "pop_S.index.names=['state','year']\n",
    "pop_S"
   ],
   "metadata": {
    "collapsed": false,
    "pycharm": {
     "name": "#%%\n",
     "is_executing": false
    }
   }
  },
  {
   "cell_type": "code",
   "execution_count": 16,
   "outputs": [
    {
     "data": {
      "text/plain": "subject          Bob       Guido         Sue      \n<class 'type'>    HR  Temp    HR  Temp    HR  Temp\nyears visit                                       \n2013  1         47.0  37.2  54.0  38.1  33.0  37.6\n      2         26.0  36.6  29.0  37.8  67.0  37.8\n2014  1         35.0  39.8  29.0  37.1  25.0  36.7\n      2         44.0  36.4  36.0  37.7  49.0  38.7",
      "text/html": "<div>\n<style scoped>\n    .dataframe tbody tr th:only-of-type {\n        vertical-align: middle;\n    }\n\n    .dataframe tbody tr th {\n        vertical-align: top;\n    }\n\n    .dataframe thead tr th {\n        text-align: left;\n    }\n\n    .dataframe thead tr:last-of-type th {\n        text-align: right;\n    }\n</style>\n<table border=\"1\" class=\"dataframe\">\n  <thead>\n    <tr>\n      <th></th>\n      <th>subject</th>\n      <th colspan=\"2\" halign=\"left\">Bob</th>\n      <th colspan=\"2\" halign=\"left\">Guido</th>\n      <th colspan=\"2\" halign=\"left\">Sue</th>\n    </tr>\n    <tr>\n      <th></th>\n      <th>&lt;class 'type'&gt;</th>\n      <th>HR</th>\n      <th>Temp</th>\n      <th>HR</th>\n      <th>Temp</th>\n      <th>HR</th>\n      <th>Temp</th>\n    </tr>\n    <tr>\n      <th>years</th>\n      <th>visit</th>\n      <th></th>\n      <th></th>\n      <th></th>\n      <th></th>\n      <th></th>\n      <th></th>\n    </tr>\n  </thead>\n  <tbody>\n    <tr>\n      <td rowspan=\"2\" valign=\"top\">2013</td>\n      <td>1</td>\n      <td>47.0</td>\n      <td>37.2</td>\n      <td>54.0</td>\n      <td>38.1</td>\n      <td>33.0</td>\n      <td>37.6</td>\n    </tr>\n    <tr>\n      <td>2</td>\n      <td>26.0</td>\n      <td>36.6</td>\n      <td>29.0</td>\n      <td>37.8</td>\n      <td>67.0</td>\n      <td>37.8</td>\n    </tr>\n    <tr>\n      <td rowspan=\"2\" valign=\"top\">2014</td>\n      <td>1</td>\n      <td>35.0</td>\n      <td>39.8</td>\n      <td>29.0</td>\n      <td>37.1</td>\n      <td>25.0</td>\n      <td>36.7</td>\n    </tr>\n    <tr>\n      <td>2</td>\n      <td>44.0</td>\n      <td>36.4</td>\n      <td>36.0</td>\n      <td>37.7</td>\n      <td>49.0</td>\n      <td>38.7</td>\n    </tr>\n  </tbody>\n</table>\n</div>"
     },
     "metadata": {},
     "output_type": "execute_result",
     "execution_count": 16
    }
   ],
   "source": [
    "index=pd.MultiIndex.from_product([[2013,2014],[1,2]],\n",
    "                                 names=['years','visit'])\n",
    "columns=pd.MultiIndex.from_product([['Bob','Guido','Sue'],['HR','Temp']],\n",
    "                                   names=['subject',type])\n",
    "data=np.round(np.random.randn(4,6),1)\n",
    "data[:,::2]*=10\n",
    "data+=37\n",
    "health_data=pd.DataFrame(data,index=index,columns = columns)\n",
    "health_data"
   ],
   "metadata": {
    "collapsed": false,
    "pycharm": {
     "name": "#%%\n",
     "is_executing": false
    }
   }
  },
  {
   "cell_type": "code",
   "execution_count": 17,
   "outputs": [
    {
     "data": {
      "text/plain": "<class 'type'>    HR  Temp\nyears visit               \n2013  1         54.0  38.1\n      2         29.0  37.8\n2014  1         29.0  37.1\n      2         36.0  37.7",
      "text/html": "<div>\n<style scoped>\n    .dataframe tbody tr th:only-of-type {\n        vertical-align: middle;\n    }\n\n    .dataframe tbody tr th {\n        vertical-align: top;\n    }\n\n    .dataframe thead th {\n        text-align: right;\n    }\n</style>\n<table border=\"1\" class=\"dataframe\">\n  <thead>\n    <tr style=\"text-align: right;\">\n      <th></th>\n      <th>&lt;class 'type'&gt;</th>\n      <th>HR</th>\n      <th>Temp</th>\n    </tr>\n    <tr>\n      <th>years</th>\n      <th>visit</th>\n      <th></th>\n      <th></th>\n    </tr>\n  </thead>\n  <tbody>\n    <tr>\n      <td rowspan=\"2\" valign=\"top\">2013</td>\n      <td>1</td>\n      <td>54.0</td>\n      <td>38.1</td>\n    </tr>\n    <tr>\n      <td>2</td>\n      <td>29.0</td>\n      <td>37.8</td>\n    </tr>\n    <tr>\n      <td rowspan=\"2\" valign=\"top\">2014</td>\n      <td>1</td>\n      <td>29.0</td>\n      <td>37.1</td>\n    </tr>\n    <tr>\n      <td>2</td>\n      <td>36.0</td>\n      <td>37.7</td>\n    </tr>\n  </tbody>\n</table>\n</div>"
     },
     "metadata": {},
     "output_type": "execute_result",
     "execution_count": 17
    }
   ],
   "source": [
    "health_data['Guido']"
   ],
   "metadata": {
    "collapsed": false,
    "pycharm": {
     "name": "#%%\n",
     "is_executing": false
    }
   }
  },
  {
   "cell_type": "code",
   "execution_count": 18,
   "outputs": [
    {
     "data": {
      "text/plain": "state  year\nCL     2000    338\n       2010    372\nNY     2000    189\n       2010    193\nTX     2000    208\n       2010    251\ndtype: int64"
     },
     "metadata": {},
     "output_type": "execute_result",
     "execution_count": 18
    }
   ],
   "source": [
    "pop_S"
   ],
   "metadata": {
    "collapsed": false,
    "pycharm": {
     "name": "#%%\n",
     "is_executing": false
    }
   }
  },
  {
   "cell_type": "code",
   "execution_count": 19,
   "outputs": [
    {
     "data": {
      "text/plain": "338"
     },
     "metadata": {},
     "output_type": "execute_result",
     "execution_count": 19
    }
   ],
   "source": [
    "pop_S['CL',2000]"
   ],
   "metadata": {
    "collapsed": false,
    "pycharm": {
     "name": "#%%\n",
     "is_executing": false
    }
   }
  },
  {
   "cell_type": "code",
   "execution_count": 20,
   "outputs": [
    {
     "data": {
      "text/plain": "state  year\nCL     2000    338\n       2010    372\nNY     2000    189\n       2010    193\nTX     2000    208\n       2010    251\ndtype: int64"
     },
     "metadata": {},
     "output_type": "execute_result",
     "execution_count": 20
    }
   ],
   "source": [
    "pop_S.loc['CL':'TX']"
   ],
   "metadata": {
    "collapsed": false,
    "pycharm": {
     "name": "#%%\n",
     "is_executing": false
    }
   }
  },
  {
   "cell_type": "code",
   "execution_count": 21,
   "outputs": [
    {
     "data": {
      "text/plain": "state\nCL    338\nNY    189\nTX    208\ndtype: int64"
     },
     "metadata": {},
     "output_type": "execute_result",
     "execution_count": 21
    }
   ],
   "source": [
    "pop_S[:,2000]"
   ],
   "metadata": {
    "collapsed": false,
    "pycharm": {
     "name": "#%%\n",
     "is_executing": false
    }
   }
  },
  {
   "cell_type": "code",
   "execution_count": 35,
   "outputs": [
    {
     "data": {
      "text/plain": "state  year\nCL     2000    338\n       2010    372\nTX     2000    208\n       2010    251\ndtype: int64"
     },
     "metadata": {},
     "output_type": "execute_result",
     "execution_count": 35
    }
   ],
   "source": [
    "pop_S[pop_S>200]"
   ],
   "metadata": {
    "collapsed": false,
    "pycharm": {
     "name": "#%%\n",
     "is_executing": false
    }
   }
  },
  {
   "cell_type": "code",
   "execution_count": 36,
   "outputs": [
    {
     "data": {
      "text/plain": "subject          Bob Guido   Sue\n<class 'type'>    HR    HR    HR\nyears visit                     \n2013  1         47.0  54.0  33.0\n2014  1         35.0  29.0  25.0",
      "text/html": "<div>\n<style scoped>\n    .dataframe tbody tr th:only-of-type {\n        vertical-align: middle;\n    }\n\n    .dataframe tbody tr th {\n        vertical-align: top;\n    }\n\n    .dataframe thead tr th {\n        text-align: left;\n    }\n\n    .dataframe thead tr:last-of-type th {\n        text-align: right;\n    }\n</style>\n<table border=\"1\" class=\"dataframe\">\n  <thead>\n    <tr>\n      <th></th>\n      <th>subject</th>\n      <th>Bob</th>\n      <th>Guido</th>\n      <th>Sue</th>\n    </tr>\n    <tr>\n      <th></th>\n      <th>&lt;class 'type'&gt;</th>\n      <th>HR</th>\n      <th>HR</th>\n      <th>HR</th>\n    </tr>\n    <tr>\n      <th>years</th>\n      <th>visit</th>\n      <th></th>\n      <th></th>\n      <th></th>\n    </tr>\n  </thead>\n  <tbody>\n    <tr>\n      <td>2013</td>\n      <td>1</td>\n      <td>47.0</td>\n      <td>54.0</td>\n      <td>33.0</td>\n    </tr>\n    <tr>\n      <td>2014</td>\n      <td>1</td>\n      <td>35.0</td>\n      <td>29.0</td>\n      <td>25.0</td>\n    </tr>\n  </tbody>\n</table>\n</div>"
     },
     "metadata": {},
     "output_type": "execute_result",
     "execution_count": 36
    }
   ],
   "source": [
    "idx=pd.IndexSlice\n",
    "health_data.loc[idx[:,1],idx[:,'HR']]\n"
   ],
   "metadata": {
    "collapsed": false,
    "pycharm": {
     "name": "#%%\n",
     "is_executing": false
    }
   }
  }
 ],
 "metadata": {
  "kernelspec": {
   "display_name": "Python 3",
   "language": "python",
   "name": "python3"
  },
  "language_info": {
   "codemirror_mode": {
    "name": "ipython",
    "version": 2
   },
   "file_extension": ".py",
   "mimetype": "text/x-python",
   "name": "python",
   "nbconvert_exporter": "python",
   "pygments_lexer": "ipython2",
   "version": "2.7.6"
  },
  "pycharm": {
   "stem_cell": {
    "cell_type": "raw",
    "source": [],
    "metadata": {
     "collapsed": false
    }
   }
  }
 },
 "nbformat": 4,
 "nbformat_minor": 0
}