{
 "cells": [
  {
   "cell_type": "code",
   "execution_count": 14,
   "metadata": {
    "collapsed": true,
    "pycharm": {
     "is_executing": false
    }
   },
   "outputs": [],
   "source": [
    "import numpy as np\n",
    "import matplotlib.pyplot as plt"
   ]
  },
  {
   "cell_type": "code",
   "execution_count": 15,
   "outputs": [],
   "source": [
    "name=['Alice','Bob','Cathy','Doug']\n",
    "age=[25,45,17,19]\n",
    "weight=[55,85,63,61]"
   ],
   "metadata": {
    "collapsed": false,
    "pycharm": {
     "name": "#%%\n",
     "is_executing": false
    }
   }
  },
  {
   "cell_type": "code",
   "execution_count": 16,
   "outputs": [
    {
     "data": {
      "text/plain": "dtype([('name', '<U10'), ('age', '<i4'), ('weight', '<f8')])"
     },
     "metadata": {},
     "output_type": "execute_result",
     "execution_count": 16
    }
   ],
   "source": [
    "data=np.zeros(4,dtype={'names':('name','age','weight'),\n",
    "                       'formats':('U10','i4','f8')\n",
    "                       })\n",
    "data.dtype"
   ],
   "metadata": {
    "collapsed": false,
    "pycharm": {
     "name": "#%%\n",
     "is_executing": false
    }
   }
  },
  {
   "cell_type": "code",
   "execution_count": 17,
   "outputs": [
    {
     "data": {
      "text/plain": "array([('Alice', 25, 55.), ('Bob', 45, 85.), ('Cathy', 17, 63.),\n       ('Doug', 19, 61.)],\n      dtype=[('name', '<U10'), ('age', '<i4'), ('weight', '<f8')])"
     },
     "metadata": {},
     "output_type": "execute_result",
     "execution_count": 17
    }
   ],
   "source": [
    "data['name']=name\n",
    "data['age']=age\n",
    "data['weight']=weight\n",
    "data"
   ],
   "metadata": {
    "collapsed": false,
    "pycharm": {
     "name": "#%%\n",
     "is_executing": false
    }
   }
  },
  {
   "cell_type": "code",
   "execution_count": 18,
   "outputs": [
    {
     "name": "stdout",
     "text": [
      "['Alice' 'Bob' 'Cathy' 'Doug']\n('Bob', 45, 85.)\nDoug\n['Alice' 'Cathy' 'Doug']\n"
     ],
     "output_type": "stream"
    }
   ],
   "source": [
    "print(data['name'])\n",
    "print(data[1])  \n",
    "print(data[-1]['name'])\n",
    "print(data[data['age']<30]['name'])"
   ],
   "metadata": {
    "collapsed": false,
    "pycharm": {
     "name": "#%%\n",
     "is_executing": false
    }
   }
  },
  {
   "cell_type": "code",
   "execution_count": 19,
   "outputs": [
    {
     "name": "stdout",
     "text": [
      "(0, [[0., 0., 0.], [0., 0., 0.], [0., 0., 0.]])\n[[0. 0. 0.]\n [0. 0. 0.]\n [0. 0. 0.]]\n"
     ],
     "output_type": "stream"
    }
   ],
   "source": [
    "tp=np.dtype([('id','i8'),('mat','f8',(3,3))])\n",
    "X=np.zeros(1,dtype = tp)\n",
    "print(X[0])\n",
    "print(X['mat'][0])"
   ],
   "metadata": {
    "collapsed": false,
    "pycharm": {
     "name": "#%%\n",
     "is_executing": false
    }
   }
  },
  {
   "cell_type": "code",
   "execution_count": 21,
   "outputs": [
    {
     "name": "stdout",
     "text": [
      "[25 45 17 19]\n[25 45 17 19]\n"
     ],
     "output_type": "stream"
    }
   ],
   "source": [
    "print(data['age'])\n",
    "data_rec=data.view(np.recarray)\n",
    "print(data_rec.age)\n",
    "\n"
   ],
   "metadata": {
    "collapsed": false,
    "pycharm": {
     "name": "#%%\n",
     "is_executing": false
    }
   }
  }
 ],
 "metadata": {
  "kernelspec": {
   "display_name": "Python 3",
   "language": "python",
   "name": "python3"
  },
  "language_info": {
   "codemirror_mode": {
    "name": "ipython",
    "version": 2
   },
   "file_extension": ".py",
   "mimetype": "text/x-python",
   "name": "python",
   "nbconvert_exporter": "python",
   "pygments_lexer": "ipython2",
   "version": "2.7.6"
  },
  "pycharm": {
   "stem_cell": {
    "cell_type": "raw",
    "source": [],
    "metadata": {
     "collapsed": false
    }
   }
  }
 },
 "nbformat": 4,
 "nbformat_minor": 0
}