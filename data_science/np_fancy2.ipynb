{
 "cells": [
  {
   "cell_type": "code",
   "execution_count": 3,
   "metadata": {
    "collapsed": true,
    "pycharm": {
     "is_executing": false
    }
   },
   "outputs": [
    {
     "data": {
      "text/plain": "array([ 0, 99, 99,  3, 99,  5,  6,  7, 99,  9])"
     },
     "metadata": {},
     "output_type": "execute_result",
     "execution_count": 3
    }
   ],
   "source": [
    "import numpy as np\n",
    "x=np.arange(10)\n",
    "i=np.array([2,1,8,4])\n",
    "x[i]=99\n",
    "x"
   ]
  },
  {
   "cell_type": "code",
   "execution_count": 5,
   "outputs": [
    {
     "data": {
      "text/plain": "array([0., 0., 1., 1., 1., 0., 0., 0., 0., 0.])"
     },
     "metadata": {},
     "output_type": "execute_result",
     "execution_count": 5
    }
   ],
   "source": [
    "x=np.zeros(10)\n",
    "i=[2,3,3,4,4,4]\n",
    "x[i]+=1\n",
    "x"
   ],
   "metadata": {
    "collapsed": false,
    "pycharm": {
     "name": "#%%\n",
     "is_executing": false
    }
   }
  },
  {
   "cell_type": "code",
   "execution_count": 6,
   "outputs": [
    {
     "data": {
      "text/plain": "array([0., 0., 1., 2., 3., 0., 0., 0., 0., 0.])"
     },
     "metadata": {},
     "output_type": "execute_result",
     "execution_count": 6
    }
   ],
   "source": [
    "x=np.zeros(10)\n",
    "np.add.at(x,i,1)\n",
    "x"
   ],
   "metadata": {
    "collapsed": false,
    "pycharm": {
     "name": "#%%\n",
     "is_executing": false
    }
   }
  },
  {
   "cell_type": "code",
   "execution_count": 17,
   "outputs": [
    {
     "data": {
      "text/plain": "array([ 0.49671415, -0.1382643 ,  0.64768854,  1.52302986, -0.23415337,\n       -0.23413696,  1.57921282,  0.76743473, -0.46947439,  0.54256004,\n       -0.46341769, -0.46572975,  0.24196227, -1.91328024, -1.72491783,\n       -0.56228753, -1.01283112,  0.31424733, -0.90802408, -1.4123037 ,\n        1.46564877, -0.2257763 ,  0.0675282 , -1.42474819, -0.54438272,\n        0.11092259, -1.15099358,  0.37569802, -0.60063869, -0.29169375,\n       -0.60170661,  1.85227818, -0.01349722, -1.05771093,  0.82254491,\n       -1.22084365,  0.2088636 , -1.95967012, -1.32818605,  0.19686124,\n        0.73846658,  0.17136828, -0.11564828, -0.3011037 , -1.47852199,\n       -0.71984421, -0.46063877,  1.05712223,  0.34361829, -1.76304016,\n        0.32408397, -0.38508228, -0.676922  ,  0.61167629,  1.03099952,\n        0.93128012, -0.83921752, -0.30921238,  0.33126343,  0.97554513,\n       -0.47917424, -0.18565898, -1.10633497, -1.19620662,  0.81252582,\n        1.35624003, -0.07201012,  1.0035329 ,  0.36163603, -0.64511975,\n        0.36139561,  1.53803657, -0.03582604,  1.56464366, -2.6197451 ,\n        0.8219025 ,  0.08704707, -0.29900735,  0.09176078, -1.98756891,\n       -0.21967189,  0.35711257,  1.47789404, -0.51827022, -0.8084936 ,\n       -0.50175704,  0.91540212,  0.32875111, -0.5297602 ,  0.51326743,\n        0.09707755,  0.96864499, -0.70205309, -0.32766215, -0.39210815,\n       -1.46351495,  0.29612028,  0.26105527,  0.00511346, -0.23458713])"
     },
     "metadata": {},
     "output_type": "execute_result",
     "execution_count": 17
    }
   ],
   "source": [
    "np.random.seed(42)\n",
    "x=np.random.randn(100)\n",
    "bins=np.linspace(-5,5,20)\n",
    "counts=np.zeros_like(bins)\n",
    "i=np.searchsorted(bins,x)\n",
    "np.add.at(counts,i,1)\n",
    "x"
   ],
   "metadata": {
    "collapsed": false,
    "pycharm": {
     "name": "#%%\n",
     "is_executing": false
    }
   }
  },
  {
   "cell_type": "code",
   "execution_count": 16,
   "outputs": [
    {
     "name": "stderr",
     "text": [
      "C:\\Users\\Hans\\Anaconda3\\lib\\site-packages\\ipykernel_launcher.py:4: MatplotlibDeprecationWarning: Passing the drawstyle with the linestyle as a single string is deprecated since Matplotlib 3.1 and support will be removed in 3.3; please pass the drawstyle separately using the drawstyle keyword argument to Line2D or set_drawstyle() method (or ds/set_ds()).\n  after removing the cwd from sys.path.\n"
     ],
     "output_type": "stream"
    },
    {
     "data": {
      "text/plain": "<Figure size 432x288 with 1 Axes>",
      "image/png": "[encoded data removed]"
     },
     "metadata": {},
     "output_type": "display_data"
    }
   ],
   "source": [
    "%matplotlib inline\n",
    "import matplotlib.pyplot as plt\n",
    "import seaborn; seaborn.set()\n",
    "plt.plot(bins,counts,linestyle='steps');"
   ],
   "metadata": {
    "collapsed": false,
    "pycharm": {
     "name": "#%%\n",
     "is_executing": false
    }
   }
  },
  {
   "cell_type": "code",
   "execution_count": 23,
   "outputs": [
    {
     "data": {
      "text/plain": "<Figure size 432x288 with 1 Axes>",
      "image/png": "[encoded data removed]"
     },
     "metadata": {},
     "output_type": "display_data"
    }
   ],
   "source": [
    "plt.hist(x,bins,histtype='step');"
   ],
   "metadata": {
    "collapsed": false,
    "pycharm": {
     "name": "#%%\n",
     "is_executing": false
    }
   }
  },
  {
   "cell_type": "code",
   "execution_count": 26,
   "outputs": [
    {
     "data": {
      "text/plain": "(array([ 0,  0,  0,  0,  1,  3,  7,  9, 23, 22, 17, 10,  7,  1,  0,  0,  0,\n         0,  0], dtype=int64),\n array([-5.        , -4.47368421, -3.94736842, -3.42105263, -2.89473684,\n        -2.36842105, -1.84210526, -1.31578947, -0.78947368, -0.26315789,\n         0.26315789,  0.78947368,  1.31578947,  1.84210526,  2.36842105,\n         2.89473684,  3.42105263,  3.94736842,  4.47368421,  5.        ]))"
     },
     "metadata": {},
     "output_type": "execute_result",
     "execution_count": 26
    }
   ],
   "source": [
    "edges=np.histogram(x,bins)\n",
    "edges"
   ],
   "metadata": {
    "collapsed": false,
    "pycharm": {
     "name": "#%%\n",
     "is_executing": false
    }
   }
  },
  {
   "cell_type": "code",
   "execution_count": 28,
   "outputs": [
    {
     "data": {
      "text/plain": "<Figure size 432x288 with 1 Axes>",
      "image/png": "[encoded data removed]"
     },
     "metadata": {},
     "output_type": "display_data"
    }
   ],
   "source": [
    "x=np.random.randn(1000000)\n",
    "plt.hist(x,bins,histtype='step');"
   ],
   "metadata": {
    "collapsed": false,
    "pycharm": {
     "name": "#%%\n",
     "is_executing": false
    }
   }
  },
  {
   "cell_type": "code",
   "execution_count": null,
   "outputs": [],
   "source": [
    "\n"
   ],
   "metadata": {
    "collapsed": false,
    "pycharm": {
     "name": "#%%\n"
    }
   }
  }
 ],
 "metadata": {
  "kernelspec": {
   "display_name": "Python 3",
   "language": "python",
   "name": "python3"
  },
  "language_info": {
   "codemirror_mode": {
    "name": "ipython",
    "version": 2
   },
   "file_extension": ".py",
   "mimetype": "text/x-python",
   "name": "python",
   "nbconvert_exporter": "python",
   "pygments_lexer": "ipython2",
   "version": "2.7.6"
  },
  "pycharm": {
   "stem_cell": {
    "cell_type": "raw",
    "source": [],
    "metadata": {
     "collapsed": false
    }
   }
  }
 },
 "nbformat": 4,
 "nbformat_minor": 0
}