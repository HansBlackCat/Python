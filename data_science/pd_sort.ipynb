{
 "cells": [
  {
   "cell_type": "code",
   "execution_count": 36,
   "metadata": {
    "collapsed": true,
    "pycharm": {
     "is_executing": false
    }
   },
   "outputs": [],
   "source": [
    "import numpy as np\n",
    "import pandas as pd"
   ]
  },
  {
   "cell_type": "code",
   "execution_count": 37,
   "outputs": [
    {
     "data": {
      "text/plain": "char  int\na     1      0.567184\n      2      0.833794\nc     1      0.025140\n      2      0.471399\nb     1      0.192448\n      2      0.074636\ndtype: float64"
     },
     "metadata": {},
     "output_type": "execute_result",
     "execution_count": 37
    }
   ],
   "source": [
    "index=pd.MultiIndex.from_product([['a','c','b'],[1,2]])\n",
    "data=pd.Series(np.random.rand(6),index=index)\n",
    "data.index.names=['char','int']\n",
    "data"
   ],
   "metadata": {
    "collapsed": false,
    "pycharm": {
     "name": "#%%\n",
     "is_executing": false
    }
   }
  },
  {
   "cell_type": "code",
   "execution_count": 38,
   "outputs": [
    {
     "name": "stdout",
     "text": [
      "<class 'KeyError'>\n('a', 'b')\n"
     ],
     "output_type": "stream"
    }
   ],
   "source": [
    "try:\n",
    "    data['a','b']\n",
    "except KeyError as e:\n",
    "    print(type(e))\n",
    "    print(e)"
   ],
   "metadata": {
    "collapsed": false,
    "pycharm": {
     "name": "#%%\n",
     "is_executing": false
    }
   }
  },
  {
   "cell_type": "code",
   "execution_count": 39,
   "outputs": [
    {
     "data": {
      "text/plain": "char  int\na     1      0.567184\n      2      0.833794\nb     1      0.192448\n      2      0.074636\nc     1      0.025140\n      2      0.471399\ndtype: float64"
     },
     "metadata": {},
     "output_type": "execute_result",
     "execution_count": 39
    }
   ],
   "source": [
    "data=data.sort_index()\n",
    "data"
   ],
   "metadata": {
    "collapsed": false,
    "pycharm": {
     "name": "#%%\n",
     "is_executing": false
    }
   }
  },
  {
   "cell_type": "code",
   "execution_count": 40,
   "outputs": [
    {
     "data": {
      "text/plain": "char  int\na     1      0.567184\n      2      0.833794\nb     1      0.192448\n      2      0.074636\nc     1      0.025140\n      2      0.471399\ndtype: float64"
     },
     "metadata": {},
     "output_type": "execute_result",
     "execution_count": 40
    }
   ],
   "source": [
    "data.sort_values()\n",
    "data"
   ],
   "metadata": {
    "collapsed": false,
    "pycharm": {
     "name": "#%%\n",
     "is_executing": false
    }
   }
  },
  {
   "cell_type": "code",
   "execution_count": 41,
   "outputs": [
    {
     "data": {
      "text/plain": "states  years\nCL      2000     364\n        2010     354\nNY      2000     246\n        2010     785\nTX      2000     324\n        2010     164\ndtype: int64"
     },
     "metadata": {},
     "output_type": "execute_result",
     "execution_count": 41
    }
   ],
   "source": [
    "index=pd.MultiIndex.from_product([['CL','NY','TX'],[2000,2010]],\n",
    "                                 names = ['states', 'years'])\n",
    "value=[364,354,246,785,324,164]\n",
    "pop=pd.Series(value,index)\n",
    "pop"
   ],
   "metadata": {
    "collapsed": false,
    "pycharm": {
     "name": "#%%\n",
     "is_executing": false
    }
   }
  },
  {
   "cell_type": "code",
   "execution_count": 42,
   "outputs": [
    {
     "data": {
      "text/plain": "states   CL   NY   TX\nyears                \n2000    364  246  324\n2010    354  785  164",
      "text/html": "<div>\n<style scoped>\n    .dataframe tbody tr th:only-of-type {\n        vertical-align: middle;\n    }\n\n    .dataframe tbody tr th {\n        vertical-align: top;\n    }\n\n    .dataframe thead th {\n        text-align: right;\n    }\n</style>\n<table border=\"1\" class=\"dataframe\">\n  <thead>\n    <tr style=\"text-align: right;\">\n      <th>states</th>\n      <th>CL</th>\n      <th>NY</th>\n      <th>TX</th>\n    </tr>\n    <tr>\n      <th>years</th>\n      <th></th>\n      <th></th>\n      <th></th>\n    </tr>\n  </thead>\n  <tbody>\n    <tr>\n      <td>2000</td>\n      <td>364</td>\n      <td>246</td>\n      <td>324</td>\n    </tr>\n    <tr>\n      <td>2010</td>\n      <td>354</td>\n      <td>785</td>\n      <td>164</td>\n    </tr>\n  </tbody>\n</table>\n</div>"
     },
     "metadata": {},
     "output_type": "execute_result",
     "execution_count": 42
    }
   ],
   "source": [
    "pop.unstack(level=0)"
   ],
   "metadata": {
    "collapsed": false,
    "pycharm": {
     "name": "#%%\n",
     "is_executing": false
    }
   }
  },
  {
   "cell_type": "code",
   "execution_count": 43,
   "outputs": [
    {
     "data": {
      "text/plain": "years   2000  2010\nstates            \nCL       364   354\nNY       246   785\nTX       324   164",
      "text/html": "<div>\n<style scoped>\n    .dataframe tbody tr th:only-of-type {\n        vertical-align: middle;\n    }\n\n    .dataframe tbody tr th {\n        vertical-align: top;\n    }\n\n    .dataframe thead th {\n        text-align: right;\n    }\n</style>\n<table border=\"1\" class=\"dataframe\">\n  <thead>\n    <tr style=\"text-align: right;\">\n      <th>years</th>\n      <th>2000</th>\n      <th>2010</th>\n    </tr>\n    <tr>\n      <th>states</th>\n      <th></th>\n      <th></th>\n    </tr>\n  </thead>\n  <tbody>\n    <tr>\n      <td>CL</td>\n      <td>364</td>\n      <td>354</td>\n    </tr>\n    <tr>\n      <td>NY</td>\n      <td>246</td>\n      <td>785</td>\n    </tr>\n    <tr>\n      <td>TX</td>\n      <td>324</td>\n      <td>164</td>\n    </tr>\n  </tbody>\n</table>\n</div>"
     },
     "metadata": {},
     "output_type": "execute_result",
     "execution_count": 43
    }
   ],
   "source": [
    "pop.unstack(level=1)"
   ],
   "metadata": {
    "collapsed": false,
    "pycharm": {
     "name": "#%%\n",
     "is_executing": false
    }
   }
  },
  {
   "cell_type": "code",
   "execution_count": 44,
   "outputs": [
    {
     "data": {
      "text/plain": "years  states\n2000   CL        364\n       NY        246\n       TX        324\n2010   CL        354\n       NY        785\n       TX        164\ndtype: int64"
     },
     "metadata": {},
     "output_type": "execute_result",
     "execution_count": 44
    }
   ],
   "source": [
    "pop.unstack(level = 0).stack()"
   ],
   "metadata": {
    "collapsed": false,
    "pycharm": {
     "name": "#%%\n",
     "is_executing": false
    }
   }
  },
  {
   "cell_type": "code",
   "execution_count": 45,
   "outputs": [
    {
     "data": {
      "text/plain": "  states  years  pop\n0     CL   2000  364\n1     CL   2010  354\n2     NY   2000  246\n3     NY   2010  785\n4     TX   2000  324\n5     TX   2010  164",
      "text/html": "<div>\n<style scoped>\n    .dataframe tbody tr th:only-of-type {\n        vertical-align: middle;\n    }\n\n    .dataframe tbody tr th {\n        vertical-align: top;\n    }\n\n    .dataframe thead th {\n        text-align: right;\n    }\n</style>\n<table border=\"1\" class=\"dataframe\">\n  <thead>\n    <tr style=\"text-align: right;\">\n      <th></th>\n      <th>states</th>\n      <th>years</th>\n      <th>pop</th>\n    </tr>\n  </thead>\n  <tbody>\n    <tr>\n      <td>0</td>\n      <td>CL</td>\n      <td>2000</td>\n      <td>364</td>\n    </tr>\n    <tr>\n      <td>1</td>\n      <td>CL</td>\n      <td>2010</td>\n      <td>354</td>\n    </tr>\n    <tr>\n      <td>2</td>\n      <td>NY</td>\n      <td>2000</td>\n      <td>246</td>\n    </tr>\n    <tr>\n      <td>3</td>\n      <td>NY</td>\n      <td>2010</td>\n      <td>785</td>\n    </tr>\n    <tr>\n      <td>4</td>\n      <td>TX</td>\n      <td>2000</td>\n      <td>324</td>\n    </tr>\n    <tr>\n      <td>5</td>\n      <td>TX</td>\n      <td>2010</td>\n      <td>164</td>\n    </tr>\n  </tbody>\n</table>\n</div>"
     },
     "metadata": {},
     "output_type": "execute_result",
     "execution_count": 45
    }
   ],
   "source": [
    "pop_flat=pop.reset_index(name='pop')\n",
    "pop_flat"
   ],
   "metadata": {
    "collapsed": false,
    "pycharm": {
     "name": "#%%\n",
     "is_executing": false
    }
   }
  },
  {
   "cell_type": "code",
   "execution_count": 46,
   "outputs": [
    {
     "data": {
      "text/plain": "subject       Bob       Guido         Sue      \ntype           HR  Temp    HR  Temp    HR  Temp\nyears visit                                    \n2013  1      57.0  36.6  47.0  39.5  26.0  37.9\n      2      31.0  36.7  28.0  37.3  30.0  37.5\n2014  1      36.0  37.9  58.0  37.4  28.0  34.8\n      2      39.0  36.1  35.0  36.4  39.0  36.8",
      "text/html": "<div>\n<style scoped>\n    .dataframe tbody tr th:only-of-type {\n        vertical-align: middle;\n    }\n\n    .dataframe tbody tr th {\n        vertical-align: top;\n    }\n\n    .dataframe thead tr th {\n        text-align: left;\n    }\n\n    .dataframe thead tr:last-of-type th {\n        text-align: right;\n    }\n</style>\n<table border=\"1\" class=\"dataframe\">\n  <thead>\n    <tr>\n      <th></th>\n      <th>subject</th>\n      <th colspan=\"2\" halign=\"left\">Bob</th>\n      <th colspan=\"2\" halign=\"left\">Guido</th>\n      <th colspan=\"2\" halign=\"left\">Sue</th>\n    </tr>\n    <tr>\n      <th></th>\n      <th>type</th>\n      <th>HR</th>\n      <th>Temp</th>\n      <th>HR</th>\n      <th>Temp</th>\n      <th>HR</th>\n      <th>Temp</th>\n    </tr>\n    <tr>\n      <th>years</th>\n      <th>visit</th>\n      <th></th>\n      <th></th>\n      <th></th>\n      <th></th>\n      <th></th>\n      <th></th>\n    </tr>\n  </thead>\n  <tbody>\n    <tr>\n      <td rowspan=\"2\" valign=\"top\">2013</td>\n      <td>1</td>\n      <td>57.0</td>\n      <td>36.6</td>\n      <td>47.0</td>\n      <td>39.5</td>\n      <td>26.0</td>\n      <td>37.9</td>\n    </tr>\n    <tr>\n      <td>2</td>\n      <td>31.0</td>\n      <td>36.7</td>\n      <td>28.0</td>\n      <td>37.3</td>\n      <td>30.0</td>\n      <td>37.5</td>\n    </tr>\n    <tr>\n      <td rowspan=\"2\" valign=\"top\">2014</td>\n      <td>1</td>\n      <td>36.0</td>\n      <td>37.9</td>\n      <td>58.0</td>\n      <td>37.4</td>\n      <td>28.0</td>\n      <td>34.8</td>\n    </tr>\n    <tr>\n      <td>2</td>\n      <td>39.0</td>\n      <td>36.1</td>\n      <td>35.0</td>\n      <td>36.4</td>\n      <td>39.0</td>\n      <td>36.8</td>\n    </tr>\n  </tbody>\n</table>\n</div>"
     },
     "metadata": {},
     "output_type": "execute_result",
     "execution_count": 46
    }
   ],
   "source": [
    "index=pd.MultiIndex.from_product([[2013,2014],[1,2]],\n",
    "                                 names=['years','visit'])\n",
    "columns=pd.MultiIndex.from_product([['Bob','Guido','Sue'],['HR','Temp']],\n",
    "                                   names=['subject','type'])\n",
    "data=np.round(np.random.randn(4,6),1)\n",
    "data[:,::2]*=10\n",
    "data+=37\n",
    "health_data=pd.DataFrame(data,index=index,columns = columns)\n",
    "health_data"
   ],
   "metadata": {
    "collapsed": false,
    "pycharm": {
     "name": "#%%\n",
     "is_executing": false
    }
   }
  },
  {
   "cell_type": "code",
   "execution_count": 47,
   "outputs": [
    {
     "data": {
      "text/plain": "subject   Bob        Guido         Sue      \ntype       HR   Temp    HR  Temp    HR  Temp\nyears                                       \n2013     44.0  36.65  37.5  38.4  28.0  37.7\n2014     37.5  37.00  46.5  36.9  33.5  35.8",
      "text/html": "<div>\n<style scoped>\n    .dataframe tbody tr th:only-of-type {\n        vertical-align: middle;\n    }\n\n    .dataframe tbody tr th {\n        vertical-align: top;\n    }\n\n    .dataframe thead tr th {\n        text-align: left;\n    }\n\n    .dataframe thead tr:last-of-type th {\n        text-align: right;\n    }\n</style>\n<table border=\"1\" class=\"dataframe\">\n  <thead>\n    <tr>\n      <th>subject</th>\n      <th colspan=\"2\" halign=\"left\">Bob</th>\n      <th colspan=\"2\" halign=\"left\">Guido</th>\n      <th colspan=\"2\" halign=\"left\">Sue</th>\n    </tr>\n    <tr>\n      <th>type</th>\n      <th>HR</th>\n      <th>Temp</th>\n      <th>HR</th>\n      <th>Temp</th>\n      <th>HR</th>\n      <th>Temp</th>\n    </tr>\n    <tr>\n      <th>years</th>\n      <th></th>\n      <th></th>\n      <th></th>\n      <th></th>\n      <th></th>\n      <th></th>\n    </tr>\n  </thead>\n  <tbody>\n    <tr>\n      <td>2013</td>\n      <td>44.0</td>\n      <td>36.65</td>\n      <td>37.5</td>\n      <td>38.4</td>\n      <td>28.0</td>\n      <td>37.7</td>\n    </tr>\n    <tr>\n      <td>2014</td>\n      <td>37.5</td>\n      <td>37.00</td>\n      <td>46.5</td>\n      <td>36.9</td>\n      <td>33.5</td>\n      <td>35.8</td>\n    </tr>\n  </tbody>\n</table>\n</div>"
     },
     "metadata": {},
     "output_type": "execute_result",
     "execution_count": 47
    }
   ],
   "source": [
    "data_mean=health_data.mean(level='years')\n",
    "data_mean"
   ],
   "metadata": {
    "collapsed": false,
    "pycharm": {
     "name": "#%%\n",
     "is_executing": false
    }
   }
  },
  {
   "cell_type": "code",
   "execution_count": 49,
   "outputs": [
    {
     "data": {
      "text/plain": "type          HR       Temp\nyears                      \n2013   36.500000  37.583333\n2014   39.166667  36.566667",
      "text/html": "<div>\n<style scoped>\n    .dataframe tbody tr th:only-of-type {\n        vertical-align: middle;\n    }\n\n    .dataframe tbody tr th {\n        vertical-align: top;\n    }\n\n    .dataframe thead th {\n        text-align: right;\n    }\n</style>\n<table border=\"1\" class=\"dataframe\">\n  <thead>\n    <tr style=\"text-align: right;\">\n      <th>type</th>\n      <th>HR</th>\n      <th>Temp</th>\n    </tr>\n    <tr>\n      <th>years</th>\n      <th></th>\n      <th></th>\n    </tr>\n  </thead>\n  <tbody>\n    <tr>\n      <td>2013</td>\n      <td>36.500000</td>\n      <td>37.583333</td>\n    </tr>\n    <tr>\n      <td>2014</td>\n      <td>39.166667</td>\n      <td>36.566667</td>\n    </tr>\n  </tbody>\n</table>\n</div>"
     },
     "metadata": {},
     "output_type": "execute_result",
     "execution_count": 49
    }
   ],
   "source": [
    "data_mean.mean(axis=1,level='type')\n"
   ],
   "metadata": {
    "collapsed": false,
    "pycharm": {
     "name": "#%%\n",
     "is_executing": false
    }
   }
  }
 ],
 "metadata": {
  "kernelspec": {
   "display_name": "Python 3",
   "language": "python",
   "name": "python3"
  },
  "language_info": {
   "codemirror_mode": {
    "name": "ipython",
    "version": 2
   },
   "file_extension": ".py",
   "mimetype": "text/x-python",
   "name": "python",
   "nbconvert_exporter": "python",
   "pygments_lexer": "ipython2",
   "version": "2.7.6"
  },
  "pycharm": {
   "stem_cell": {
    "cell_type": "raw",
    "source": [],
    "metadata": {
     "collapsed": false
    }
   }
  }
 },
 "nbformat": 4,
 "nbformat_minor": 0
}